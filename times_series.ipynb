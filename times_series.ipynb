{
 "cells": [
  {
   "cell_type": "code",
   "execution_count": 1013,
   "id": "de538a35",
   "metadata": {},
   "outputs": [],
   "source": [
    "import pandas as pd\n",
    "import matplotlib.pyplot as plt\n",
    "import seaborn as sns\n",
    "import numpy as np\n",
    "\n",
    "from statsmodels.tsa.seasonal import seasonal_decompose\n",
    "from statsmodels.tsa.stattools import adfuller\n",
    "\n",
    "from statsforecast import StatsForecast\n",
    "from statsforecast.models import Naive, SeasonalNaive, SeasonalWindowAverage, AutoARIMA"
   ]
  },
  {
   "cell_type": "code",
   "execution_count": 1014,
   "id": "304ce406",
   "metadata": {},
   "outputs": [
    {
     "data": {
      "text/html": [
       "<div>\n",
       "<style scoped>\n",
       "    .dataframe tbody tr th:only-of-type {\n",
       "        vertical-align: middle;\n",
       "    }\n",
       "\n",
       "    .dataframe tbody tr th {\n",
       "        vertical-align: top;\n",
       "    }\n",
       "\n",
       "    .dataframe thead th {\n",
       "        text-align: right;\n",
       "    }\n",
       "</style>\n",
       "<table border=\"1\" class=\"dataframe\">\n",
       "  <thead>\n",
       "    <tr style=\"text-align: right;\">\n",
       "      <th></th>\n",
       "      <th>Data</th>\n",
       "      <th>Último</th>\n",
       "      <th>Abertura</th>\n",
       "      <th>Máxima</th>\n",
       "      <th>Mínima</th>\n",
       "      <th>Vol.</th>\n",
       "      <th>Var%</th>\n",
       "    </tr>\n",
       "  </thead>\n",
       "  <tbody>\n",
       "    <tr>\n",
       "      <th>0</th>\n",
       "      <td>09.07.2025</td>\n",
       "      <td>137.481</td>\n",
       "      <td>139.303</td>\n",
       "      <td>139.331</td>\n",
       "      <td>137.299</td>\n",
       "      <td>7,58B</td>\n",
       "      <td>-1,31%</td>\n",
       "    </tr>\n",
       "    <tr>\n",
       "      <th>1</th>\n",
       "      <td>08.07.2025</td>\n",
       "      <td>139.303</td>\n",
       "      <td>139.491</td>\n",
       "      <td>139.591</td>\n",
       "      <td>138.770</td>\n",
       "      <td>6,75B</td>\n",
       "      <td>-0,13%</td>\n",
       "    </tr>\n",
       "    <tr>\n",
       "      <th>2</th>\n",
       "      <td>07.07.2025</td>\n",
       "      <td>139.490</td>\n",
       "      <td>141.265</td>\n",
       "      <td>141.342</td>\n",
       "      <td>139.295</td>\n",
       "      <td>6,12B</td>\n",
       "      <td>-1,26%</td>\n",
       "    </tr>\n",
       "    <tr>\n",
       "      <th>3</th>\n",
       "      <td>04.07.2025</td>\n",
       "      <td>141.264</td>\n",
       "      <td>140.928</td>\n",
       "      <td>141.564</td>\n",
       "      <td>140.597</td>\n",
       "      <td>3,31B</td>\n",
       "      <td>0,24%</td>\n",
       "    </tr>\n",
       "    <tr>\n",
       "      <th>4</th>\n",
       "      <td>03.07.2025</td>\n",
       "      <td>140.928</td>\n",
       "      <td>139.051</td>\n",
       "      <td>141.304</td>\n",
       "      <td>139.051</td>\n",
       "      <td>6,08B</td>\n",
       "      <td>1,35%</td>\n",
       "    </tr>\n",
       "  </tbody>\n",
       "</table>\n",
       "</div>"
      ],
      "text/plain": [
       "         Data   Último  Abertura   Máxima   Mínima   Vol.    Var%\n",
       "0  09.07.2025  137.481   139.303  139.331  137.299  7,58B  -1,31%\n",
       "1  08.07.2025  139.303   139.491  139.591  138.770  6,75B  -0,13%\n",
       "2  07.07.2025  139.490   141.265  141.342  139.295  6,12B  -1,26%\n",
       "3  04.07.2025  141.264   140.928  141.564  140.597  3,31B   0,24%\n",
       "4  03.07.2025  140.928   139.051  141.304  139.051  6,08B   1,35%"
      ]
     },
     "execution_count": 1014,
     "metadata": {},
     "output_type": "execute_result"
    }
   ],
   "source": [
    "url = 'dados_ibovespa.csv'\n",
    "df = pd.read_csv(url)\n",
    "df.head()"
   ]
  },
  {
   "cell_type": "markdown",
   "id": "c574a11c",
   "metadata": {},
   "source": [
    "Estamos verificando se existe dados nulos na nossa base de dados."
   ]
  },
  {
   "cell_type": "code",
   "execution_count": 1015,
   "id": "d5120d94",
   "metadata": {},
   "outputs": [
    {
     "data": {
      "text/plain": [
       "Data        0\n",
       "Último      0\n",
       "Abertura    0\n",
       "Máxima      0\n",
       "Mínima      0\n",
       "Vol.        1\n",
       "Var%        0\n",
       "dtype: int64"
      ]
     },
     "execution_count": 1015,
     "metadata": {},
     "output_type": "execute_result"
    }
   ],
   "source": [
    "df.isnull().sum()"
   ]
  },
  {
   "cell_type": "markdown",
   "id": "403248fa",
   "metadata": {},
   "source": [
    "Aqui damos um **info()** para entendermos um pouco mais sobre os tipo de variáveis que estamos trabalhando."
   ]
  },
  {
   "cell_type": "code",
   "execution_count": 1016,
   "id": "a93d6d1c",
   "metadata": {},
   "outputs": [
    {
     "name": "stdout",
     "output_type": "stream",
     "text": [
      "<class 'pandas.core.frame.DataFrame'>\n",
      "RangeIndex: 4953 entries, 0 to 4952\n",
      "Data columns (total 7 columns):\n",
      " #   Column    Non-Null Count  Dtype  \n",
      "---  ------    --------------  -----  \n",
      " 0   Data      4953 non-null   object \n",
      " 1   Último    4953 non-null   float64\n",
      " 2   Abertura  4953 non-null   float64\n",
      " 3   Máxima    4953 non-null   float64\n",
      " 4   Mínima    4953 non-null   float64\n",
      " 5   Vol.      4952 non-null   object \n",
      " 6   Var%      4953 non-null   object \n",
      "dtypes: float64(4), object(3)\n",
      "memory usage: 271.0+ KB\n"
     ]
    }
   ],
   "source": [
    "df.info()"
   ]
  },
  {
   "cell_type": "markdown",
   "id": "61941d9e",
   "metadata": {},
   "source": [
    "Anteriormente, notamos que o tipo do campo **\"Data\"** que iremos utilizar esta como object(string), sendo assim será necessário transforma-lo em tipo data. "
   ]
  },
  {
   "cell_type": "code",
   "execution_count": 1017,
   "id": "d8338c07",
   "metadata": {},
   "outputs": [
    {
     "name": "stdout",
     "output_type": "stream",
     "text": [
      "<class 'pandas.core.frame.DataFrame'>\n",
      "RangeIndex: 4953 entries, 0 to 4952\n",
      "Data columns (total 7 columns):\n",
      " #   Column    Non-Null Count  Dtype         \n",
      "---  ------    --------------  -----         \n",
      " 0   Data      4953 non-null   datetime64[ns]\n",
      " 1   Último    4953 non-null   float64       \n",
      " 2   Abertura  4953 non-null   float64       \n",
      " 3   Máxima    4953 non-null   float64       \n",
      " 4   Mínima    4953 non-null   float64       \n",
      " 5   Vol.      4952 non-null   object        \n",
      " 6   Var%      4953 non-null   object        \n",
      "dtypes: datetime64[ns](1), float64(4), object(2)\n",
      "memory usage: 271.0+ KB\n"
     ]
    }
   ],
   "source": [
    "df['Data'] = pd.to_datetime(df['Data'], dayfirst=True)\n",
    "\n",
    "df.info()"
   ]
  },
  {
   "cell_type": "markdown",
   "id": "ebc983ee",
   "metadata": {},
   "source": [
    "Já temos nossa coluna de Data ajustada de maneira correta, agora precisamos criar uma coluna categorica, do qual escolhi categorizar meus dados de acordo com os dias da semana."
   ]
  },
  {
   "cell_type": "code",
   "execution_count": 1018,
   "id": "349800ea",
   "metadata": {},
   "outputs": [],
   "source": [
    "df['serie_id'] = 'ibovespa'"
   ]
  },
  {
   "cell_type": "code",
   "execution_count": 1019,
   "id": "e77eaf17",
   "metadata": {},
   "outputs": [
    {
     "data": {
      "text/html": [
       "<div>\n",
       "<style scoped>\n",
       "    .dataframe tbody tr th:only-of-type {\n",
       "        vertical-align: middle;\n",
       "    }\n",
       "\n",
       "    .dataframe tbody tr th {\n",
       "        vertical-align: top;\n",
       "    }\n",
       "\n",
       "    .dataframe thead th {\n",
       "        text-align: right;\n",
       "    }\n",
       "</style>\n",
       "<table border=\"1\" class=\"dataframe\">\n",
       "  <thead>\n",
       "    <tr style=\"text-align: right;\">\n",
       "      <th></th>\n",
       "      <th>Data</th>\n",
       "      <th>Último</th>\n",
       "      <th>Abertura</th>\n",
       "      <th>Máxima</th>\n",
       "      <th>Mínima</th>\n",
       "      <th>Vol.</th>\n",
       "      <th>Var%</th>\n",
       "      <th>serie_id</th>\n",
       "    </tr>\n",
       "  </thead>\n",
       "  <tbody>\n",
       "    <tr>\n",
       "      <th>0</th>\n",
       "      <td>2025-07-09</td>\n",
       "      <td>137.481</td>\n",
       "      <td>139.303</td>\n",
       "      <td>139.331</td>\n",
       "      <td>137.299</td>\n",
       "      <td>7,58B</td>\n",
       "      <td>-1,31%</td>\n",
       "      <td>ibovespa</td>\n",
       "    </tr>\n",
       "    <tr>\n",
       "      <th>1</th>\n",
       "      <td>2025-07-08</td>\n",
       "      <td>139.303</td>\n",
       "      <td>139.491</td>\n",
       "      <td>139.591</td>\n",
       "      <td>138.770</td>\n",
       "      <td>6,75B</td>\n",
       "      <td>-0,13%</td>\n",
       "      <td>ibovespa</td>\n",
       "    </tr>\n",
       "    <tr>\n",
       "      <th>2</th>\n",
       "      <td>2025-07-07</td>\n",
       "      <td>139.490</td>\n",
       "      <td>141.265</td>\n",
       "      <td>141.342</td>\n",
       "      <td>139.295</td>\n",
       "      <td>6,12B</td>\n",
       "      <td>-1,26%</td>\n",
       "      <td>ibovespa</td>\n",
       "    </tr>\n",
       "    <tr>\n",
       "      <th>3</th>\n",
       "      <td>2025-07-04</td>\n",
       "      <td>141.264</td>\n",
       "      <td>140.928</td>\n",
       "      <td>141.564</td>\n",
       "      <td>140.597</td>\n",
       "      <td>3,31B</td>\n",
       "      <td>0,24%</td>\n",
       "      <td>ibovespa</td>\n",
       "    </tr>\n",
       "    <tr>\n",
       "      <th>4</th>\n",
       "      <td>2025-07-03</td>\n",
       "      <td>140.928</td>\n",
       "      <td>139.051</td>\n",
       "      <td>141.304</td>\n",
       "      <td>139.051</td>\n",
       "      <td>6,08B</td>\n",
       "      <td>1,35%</td>\n",
       "      <td>ibovespa</td>\n",
       "    </tr>\n",
       "    <tr>\n",
       "      <th>...</th>\n",
       "      <td>...</td>\n",
       "      <td>...</td>\n",
       "      <td>...</td>\n",
       "      <td>...</td>\n",
       "      <td>...</td>\n",
       "      <td>...</td>\n",
       "      <td>...</td>\n",
       "      <td>...</td>\n",
       "    </tr>\n",
       "    <tr>\n",
       "      <th>4948</th>\n",
       "      <td>2005-07-15</td>\n",
       "      <td>25.222</td>\n",
       "      <td>25.916</td>\n",
       "      <td>25.916</td>\n",
       "      <td>25.222</td>\n",
       "      <td>72,88M</td>\n",
       "      <td>-2,69%</td>\n",
       "      <td>ibovespa</td>\n",
       "    </tr>\n",
       "    <tr>\n",
       "      <th>4949</th>\n",
       "      <td>2005-07-14</td>\n",
       "      <td>25.920</td>\n",
       "      <td>25.859</td>\n",
       "      <td>26.142</td>\n",
       "      <td>25.725</td>\n",
       "      <td>113,35M</td>\n",
       "      <td>0,25%</td>\n",
       "      <td>ibovespa</td>\n",
       "    </tr>\n",
       "    <tr>\n",
       "      <th>4950</th>\n",
       "      <td>2005-07-13</td>\n",
       "      <td>25.856</td>\n",
       "      <td>25.557</td>\n",
       "      <td>26.043</td>\n",
       "      <td>25.557</td>\n",
       "      <td>107,28M</td>\n",
       "      <td>1,25%</td>\n",
       "      <td>ibovespa</td>\n",
       "    </tr>\n",
       "    <tr>\n",
       "      <th>4951</th>\n",
       "      <td>2005-07-12</td>\n",
       "      <td>25.536</td>\n",
       "      <td>25.027</td>\n",
       "      <td>25.576</td>\n",
       "      <td>24.932</td>\n",
       "      <td>94,91M</td>\n",
       "      <td>2,08%</td>\n",
       "      <td>ibovespa</td>\n",
       "    </tr>\n",
       "    <tr>\n",
       "      <th>4952</th>\n",
       "      <td>2005-07-11</td>\n",
       "      <td>25.016</td>\n",
       "      <td>24.425</td>\n",
       "      <td>25.032</td>\n",
       "      <td>24.425</td>\n",
       "      <td>100,42M</td>\n",
       "      <td>2,43%</td>\n",
       "      <td>ibovespa</td>\n",
       "    </tr>\n",
       "  </tbody>\n",
       "</table>\n",
       "<p>4953 rows × 8 columns</p>\n",
       "</div>"
      ],
      "text/plain": [
       "           Data   Último  Abertura   Máxima   Mínima     Vol.    Var%  \\\n",
       "0    2025-07-09  137.481   139.303  139.331  137.299    7,58B  -1,31%   \n",
       "1    2025-07-08  139.303   139.491  139.591  138.770    6,75B  -0,13%   \n",
       "2    2025-07-07  139.490   141.265  141.342  139.295    6,12B  -1,26%   \n",
       "3    2025-07-04  141.264   140.928  141.564  140.597    3,31B   0,24%   \n",
       "4    2025-07-03  140.928   139.051  141.304  139.051    6,08B   1,35%   \n",
       "...         ...      ...       ...      ...      ...      ...     ...   \n",
       "4948 2005-07-15   25.222    25.916   25.916   25.222   72,88M  -2,69%   \n",
       "4949 2005-07-14   25.920    25.859   26.142   25.725  113,35M   0,25%   \n",
       "4950 2005-07-13   25.856    25.557   26.043   25.557  107,28M   1,25%   \n",
       "4951 2005-07-12   25.536    25.027   25.576   24.932   94,91M   2,08%   \n",
       "4952 2005-07-11   25.016    24.425   25.032   24.425  100,42M   2,43%   \n",
       "\n",
       "      serie_id  \n",
       "0     ibovespa  \n",
       "1     ibovespa  \n",
       "2     ibovespa  \n",
       "3     ibovespa  \n",
       "4     ibovespa  \n",
       "...        ...  \n",
       "4948  ibovespa  \n",
       "4949  ibovespa  \n",
       "4950  ibovespa  \n",
       "4951  ibovespa  \n",
       "4952  ibovespa  \n",
       "\n",
       "[4953 rows x 8 columns]"
      ]
     },
     "execution_count": 1019,
     "metadata": {},
     "output_type": "execute_result"
    }
   ],
   "source": [
    "df"
   ]
  },
  {
   "cell_type": "markdown",
   "id": "55943769",
   "metadata": {},
   "source": [
    "Agora iremos analisar nossa base de dados de acordo com os parâmetros de uma Time Series."
   ]
  },
  {
   "cell_type": "markdown",
   "id": "36c17f61",
   "metadata": {},
   "source": [
    "Agora iremos renomer as nossas colunas, para seguir o padrão de modelos de time series "
   ]
  },
  {
   "cell_type": "code",
   "execution_count": 1020,
   "id": "fc56098e",
   "metadata": {},
   "outputs": [
    {
     "data": {
      "text/html": [
       "<div>\n",
       "<style scoped>\n",
       "    .dataframe tbody tr th:only-of-type {\n",
       "        vertical-align: middle;\n",
       "    }\n",
       "\n",
       "    .dataframe tbody tr th {\n",
       "        vertical-align: top;\n",
       "    }\n",
       "\n",
       "    .dataframe thead th {\n",
       "        text-align: right;\n",
       "    }\n",
       "</style>\n",
       "<table border=\"1\" class=\"dataframe\">\n",
       "  <thead>\n",
       "    <tr style=\"text-align: right;\">\n",
       "      <th></th>\n",
       "      <th>ds</th>\n",
       "      <th>y</th>\n",
       "      <th>Abertura</th>\n",
       "      <th>Máxima</th>\n",
       "      <th>Mínima</th>\n",
       "      <th>Vol.</th>\n",
       "      <th>Var%</th>\n",
       "      <th>unique_id</th>\n",
       "    </tr>\n",
       "  </thead>\n",
       "  <tbody>\n",
       "    <tr>\n",
       "      <th>0</th>\n",
       "      <td>2025-07-09</td>\n",
       "      <td>137.481</td>\n",
       "      <td>139.303</td>\n",
       "      <td>139.331</td>\n",
       "      <td>137.299</td>\n",
       "      <td>7,58B</td>\n",
       "      <td>-1,31%</td>\n",
       "      <td>ibovespa</td>\n",
       "    </tr>\n",
       "    <tr>\n",
       "      <th>1</th>\n",
       "      <td>2025-07-08</td>\n",
       "      <td>139.303</td>\n",
       "      <td>139.491</td>\n",
       "      <td>139.591</td>\n",
       "      <td>138.770</td>\n",
       "      <td>6,75B</td>\n",
       "      <td>-0,13%</td>\n",
       "      <td>ibovespa</td>\n",
       "    </tr>\n",
       "    <tr>\n",
       "      <th>2</th>\n",
       "      <td>2025-07-07</td>\n",
       "      <td>139.490</td>\n",
       "      <td>141.265</td>\n",
       "      <td>141.342</td>\n",
       "      <td>139.295</td>\n",
       "      <td>6,12B</td>\n",
       "      <td>-1,26%</td>\n",
       "      <td>ibovespa</td>\n",
       "    </tr>\n",
       "    <tr>\n",
       "      <th>3</th>\n",
       "      <td>2025-07-04</td>\n",
       "      <td>141.264</td>\n",
       "      <td>140.928</td>\n",
       "      <td>141.564</td>\n",
       "      <td>140.597</td>\n",
       "      <td>3,31B</td>\n",
       "      <td>0,24%</td>\n",
       "      <td>ibovespa</td>\n",
       "    </tr>\n",
       "    <tr>\n",
       "      <th>4</th>\n",
       "      <td>2025-07-03</td>\n",
       "      <td>140.928</td>\n",
       "      <td>139.051</td>\n",
       "      <td>141.304</td>\n",
       "      <td>139.051</td>\n",
       "      <td>6,08B</td>\n",
       "      <td>1,35%</td>\n",
       "      <td>ibovespa</td>\n",
       "    </tr>\n",
       "  </tbody>\n",
       "</table>\n",
       "</div>"
      ],
      "text/plain": [
       "          ds        y  Abertura   Máxima   Mínima   Vol.    Var% unique_id\n",
       "0 2025-07-09  137.481   139.303  139.331  137.299  7,58B  -1,31%  ibovespa\n",
       "1 2025-07-08  139.303   139.491  139.591  138.770  6,75B  -0,13%  ibovespa\n",
       "2 2025-07-07  139.490   141.265  141.342  139.295  6,12B  -1,26%  ibovespa\n",
       "3 2025-07-04  141.264   140.928  141.564  140.597  3,31B   0,24%  ibovespa\n",
       "4 2025-07-03  140.928   139.051  141.304  139.051  6,08B   1,35%  ibovespa"
      ]
     },
     "execution_count": 1020,
     "metadata": {},
     "output_type": "execute_result"
    }
   ],
   "source": [
    "df = df.rename(columns={'Data': 'ds', 'Último': 'y', 'serie_id': 'unique_id'})\n",
    "\n",
    "df.head()"
   ]
  },
  {
   "cell_type": "code",
   "execution_count": 1021,
   "id": "6f347bcf",
   "metadata": {},
   "outputs": [
    {
     "data": {
      "text/html": [
       "<div>\n",
       "<style scoped>\n",
       "    .dataframe tbody tr th:only-of-type {\n",
       "        vertical-align: middle;\n",
       "    }\n",
       "\n",
       "    .dataframe tbody tr th {\n",
       "        vertical-align: top;\n",
       "    }\n",
       "\n",
       "    .dataframe thead th {\n",
       "        text-align: right;\n",
       "    }\n",
       "</style>\n",
       "<table border=\"1\" class=\"dataframe\">\n",
       "  <thead>\n",
       "    <tr style=\"text-align: right;\">\n",
       "      <th></th>\n",
       "      <th>ds</th>\n",
       "      <th>y</th>\n",
       "      <th>unique_id</th>\n",
       "    </tr>\n",
       "  </thead>\n",
       "  <tbody>\n",
       "    <tr>\n",
       "      <th>0</th>\n",
       "      <td>2025-07-09</td>\n",
       "      <td>137.481</td>\n",
       "      <td>ibovespa</td>\n",
       "    </tr>\n",
       "    <tr>\n",
       "      <th>1</th>\n",
       "      <td>2025-07-08</td>\n",
       "      <td>139.303</td>\n",
       "      <td>ibovespa</td>\n",
       "    </tr>\n",
       "    <tr>\n",
       "      <th>2</th>\n",
       "      <td>2025-07-07</td>\n",
       "      <td>139.490</td>\n",
       "      <td>ibovespa</td>\n",
       "    </tr>\n",
       "    <tr>\n",
       "      <th>3</th>\n",
       "      <td>2025-07-04</td>\n",
       "      <td>141.264</td>\n",
       "      <td>ibovespa</td>\n",
       "    </tr>\n",
       "    <tr>\n",
       "      <th>4</th>\n",
       "      <td>2025-07-03</td>\n",
       "      <td>140.928</td>\n",
       "      <td>ibovespa</td>\n",
       "    </tr>\n",
       "    <tr>\n",
       "      <th>...</th>\n",
       "      <td>...</td>\n",
       "      <td>...</td>\n",
       "      <td>...</td>\n",
       "    </tr>\n",
       "    <tr>\n",
       "      <th>4948</th>\n",
       "      <td>2005-07-15</td>\n",
       "      <td>25.222</td>\n",
       "      <td>ibovespa</td>\n",
       "    </tr>\n",
       "    <tr>\n",
       "      <th>4949</th>\n",
       "      <td>2005-07-14</td>\n",
       "      <td>25.920</td>\n",
       "      <td>ibovespa</td>\n",
       "    </tr>\n",
       "    <tr>\n",
       "      <th>4950</th>\n",
       "      <td>2005-07-13</td>\n",
       "      <td>25.856</td>\n",
       "      <td>ibovespa</td>\n",
       "    </tr>\n",
       "    <tr>\n",
       "      <th>4951</th>\n",
       "      <td>2005-07-12</td>\n",
       "      <td>25.536</td>\n",
       "      <td>ibovespa</td>\n",
       "    </tr>\n",
       "    <tr>\n",
       "      <th>4952</th>\n",
       "      <td>2005-07-11</td>\n",
       "      <td>25.016</td>\n",
       "      <td>ibovespa</td>\n",
       "    </tr>\n",
       "  </tbody>\n",
       "</table>\n",
       "<p>4953 rows × 3 columns</p>\n",
       "</div>"
      ],
      "text/plain": [
       "             ds        y unique_id\n",
       "0    2025-07-09  137.481  ibovespa\n",
       "1    2025-07-08  139.303  ibovespa\n",
       "2    2025-07-07  139.490  ibovespa\n",
       "3    2025-07-04  141.264  ibovespa\n",
       "4    2025-07-03  140.928  ibovespa\n",
       "...         ...      ...       ...\n",
       "4948 2005-07-15   25.222  ibovespa\n",
       "4949 2005-07-14   25.920  ibovespa\n",
       "4950 2005-07-13   25.856  ibovespa\n",
       "4951 2005-07-12   25.536  ibovespa\n",
       "4952 2005-07-11   25.016  ibovespa\n",
       "\n",
       "[4953 rows x 3 columns]"
      ]
     },
     "execution_count": 1021,
     "metadata": {},
     "output_type": "execute_result"
    }
   ],
   "source": [
    "df = df.drop(columns=['Abertura', 'Máxima', 'Mínima', 'Vol.', 'Var%'])\n",
    "\n",
    "df"
   ]
  },
  {
   "cell_type": "code",
   "execution_count": 1022,
   "id": "de88dde5",
   "metadata": {},
   "outputs": [
    {
     "data": {
      "image/png": "[encoded data removed]",
      "text/plain": [
       "<Figure size 1000x800 with 4 Axes>"
      ]
     },
     "metadata": {},
     "output_type": "display_data"
    }
   ],
   "source": [
    "result = seasonal_decompose(df[\"y\"], model=\"multiplicative\", period=365)\n",
    "fig, axs = plt.subplots(4, 1, figsize=(10, 8), sharex=True)\n",
    "\n",
    "axs[0].plot(result.observed, color='blue')\n",
    "axs[0].set_title('Série Original')\n",
    "\n",
    "axs[1].plot(result.trend, color='blue')\n",
    "axs[1].set_title('Tendência')\n",
    "\n",
    "axs[2].plot(result.seasonal, color='blue')\n",
    "axs[2].set_title('Sazonalidade')\n",
    "\n",
    "axs[3].plot(result.resid, color='blue')\n",
    "axs[3].set_title('Resíduos')\n",
    "\n",
    "plt.tight_layout()\n",
    "plt.show()"
   ]
  },
  {
   "cell_type": "markdown",
   "id": "e2e8157b",
   "metadata": {},
   "source": [
    "Agora iremos fazer um teste para ver se a nossa base é ou não estacionária."
   ]
  },
  {
   "cell_type": "code",
   "execution_count": 1023,
   "id": "4979f0a7",
   "metadata": {},
   "outputs": [
    {
     "name": "stdout",
     "output_type": "stream",
     "text": [
      "Teste ADF: -1.641246\n",
      "p-value: 0.461610\n",
      "Valores Críticos:\n",
      "   1%: -3.431673361342282\n",
      "   5%: -2.8621247811548693\n",
      "   10%: -2.5670812799683316\n"
     ]
    }
   ],
   "source": [
    "X = df.y.values\n",
    "\n",
    "result = adfuller(X)\n",
    "print('Teste ADF: %f' % result[0])\n",
    "print('p-value: %f' % result[1])\n",
    "print('Valores Críticos:')\n",
    "\n",
    "for key, value in result[4].items():\n",
    "    print(f'   {key}: {value}')"
   ]
  },
  {
   "cell_type": "markdown",
   "id": "2d241443",
   "metadata": {},
   "source": [
    "De acordo com os resultados obtidos no teste ADF, conseguimos concluir que a nossa  time series, não é estacionária."
   ]
  },
  {
   "cell_type": "markdown",
   "id": "3d9166e3",
   "metadata": {},
   "source": [
    "Agora iremos tentar deixar nossa serie estacionária utilizando a tecnica de calcular a diferença entre valores consecutivos."
   ]
  },
  {
   "cell_type": "code",
   "execution_count": 1024,
   "id": "4efad682",
   "metadata": {},
   "outputs": [],
   "source": [
    "df['y_diff'] = df['y'].diff()"
   ]
  },
  {
   "cell_type": "code",
   "execution_count": 1025,
   "id": "57f0572a",
   "metadata": {},
   "outputs": [],
   "source": [
    "X_diff = df['y_diff'].dropna()"
   ]
  },
  {
   "cell_type": "code",
   "execution_count": 1026,
   "id": "5f8aa9c6",
   "metadata": {},
   "outputs": [
    {
     "name": "stdout",
     "output_type": "stream",
     "text": [
      "ADF após diferenciação: -23.842915\n",
      "p-value: 0.000000\n",
      "Valores Críticos:\n",
      "   1%: -3.431673361342282\n",
      "   5%: -2.8621247811548693\n",
      "   10%: -2.5670812799683316\n"
     ]
    }
   ],
   "source": [
    "result = adfuller(X_diff)\n",
    "print('ADF após diferenciação: %f' % result[0])\n",
    "print('p-value: %f' % result[1])\n",
    "print('Valores Críticos:')\n",
    "for key, value in result[4].items():\n",
    "    print(f'   {key}: {value}')"
   ]
  },
  {
   "cell_type": "markdown",
   "id": "47c92464",
   "metadata": {},
   "source": [
    "Agora iremos separar em um df estacionário e outro não estacionário para podermos utiliza-los posteriormente nos modelos, e ver a diferença entre eles."
   ]
  },
  {
   "cell_type": "code",
   "execution_count": 1027,
   "id": "e61af9c7",
   "metadata": {},
   "outputs": [],
   "source": [
    "df_nao_estacionario = df.copy()\n",
    "df_nao_estacionario = df_nao_estacionario[['ds' ,'y','unique_id' ]]"
   ]
  },
  {
   "cell_type": "code",
   "execution_count": 1028,
   "id": "9902f07f",
   "metadata": {},
   "outputs": [
    {
     "data": {
      "text/html": [
       "<div>\n",
       "<style scoped>\n",
       "    .dataframe tbody tr th:only-of-type {\n",
       "        vertical-align: middle;\n",
       "    }\n",
       "\n",
       "    .dataframe tbody tr th {\n",
       "        vertical-align: top;\n",
       "    }\n",
       "\n",
       "    .dataframe thead th {\n",
       "        text-align: right;\n",
       "    }\n",
       "</style>\n",
       "<table border=\"1\" class=\"dataframe\">\n",
       "  <thead>\n",
       "    <tr style=\"text-align: right;\">\n",
       "      <th></th>\n",
       "      <th>ds</th>\n",
       "      <th>y</th>\n",
       "      <th>unique_id</th>\n",
       "    </tr>\n",
       "  </thead>\n",
       "  <tbody>\n",
       "    <tr>\n",
       "      <th>0</th>\n",
       "      <td>2025-07-09</td>\n",
       "      <td>137.481</td>\n",
       "      <td>ibovespa</td>\n",
       "    </tr>\n",
       "    <tr>\n",
       "      <th>1</th>\n",
       "      <td>2025-07-08</td>\n",
       "      <td>139.303</td>\n",
       "      <td>ibovespa</td>\n",
       "    </tr>\n",
       "    <tr>\n",
       "      <th>2</th>\n",
       "      <td>2025-07-07</td>\n",
       "      <td>139.490</td>\n",
       "      <td>ibovespa</td>\n",
       "    </tr>\n",
       "    <tr>\n",
       "      <th>3</th>\n",
       "      <td>2025-07-04</td>\n",
       "      <td>141.264</td>\n",
       "      <td>ibovespa</td>\n",
       "    </tr>\n",
       "    <tr>\n",
       "      <th>4</th>\n",
       "      <td>2025-07-03</td>\n",
       "      <td>140.928</td>\n",
       "      <td>ibovespa</td>\n",
       "    </tr>\n",
       "    <tr>\n",
       "      <th>...</th>\n",
       "      <td>...</td>\n",
       "      <td>...</td>\n",
       "      <td>...</td>\n",
       "    </tr>\n",
       "    <tr>\n",
       "      <th>4948</th>\n",
       "      <td>2005-07-15</td>\n",
       "      <td>25.222</td>\n",
       "      <td>ibovespa</td>\n",
       "    </tr>\n",
       "    <tr>\n",
       "      <th>4949</th>\n",
       "      <td>2005-07-14</td>\n",
       "      <td>25.920</td>\n",
       "      <td>ibovespa</td>\n",
       "    </tr>\n",
       "    <tr>\n",
       "      <th>4950</th>\n",
       "      <td>2005-07-13</td>\n",
       "      <td>25.856</td>\n",
       "      <td>ibovespa</td>\n",
       "    </tr>\n",
       "    <tr>\n",
       "      <th>4951</th>\n",
       "      <td>2005-07-12</td>\n",
       "      <td>25.536</td>\n",
       "      <td>ibovespa</td>\n",
       "    </tr>\n",
       "    <tr>\n",
       "      <th>4952</th>\n",
       "      <td>2005-07-11</td>\n",
       "      <td>25.016</td>\n",
       "      <td>ibovespa</td>\n",
       "    </tr>\n",
       "  </tbody>\n",
       "</table>\n",
       "<p>4953 rows × 3 columns</p>\n",
       "</div>"
      ],
      "text/plain": [
       "             ds        y unique_id\n",
       "0    2025-07-09  137.481  ibovespa\n",
       "1    2025-07-08  139.303  ibovespa\n",
       "2    2025-07-07  139.490  ibovespa\n",
       "3    2025-07-04  141.264  ibovespa\n",
       "4    2025-07-03  140.928  ibovespa\n",
       "...         ...      ...       ...\n",
       "4948 2005-07-15   25.222  ibovespa\n",
       "4949 2005-07-14   25.920  ibovespa\n",
       "4950 2005-07-13   25.856  ibovespa\n",
       "4951 2005-07-12   25.536  ibovespa\n",
       "4952 2005-07-11   25.016  ibovespa\n",
       "\n",
       "[4953 rows x 3 columns]"
      ]
     },
     "execution_count": 1028,
     "metadata": {},
     "output_type": "execute_result"
    }
   ],
   "source": [
    "df_nao_estacionario"
   ]
  },
  {
   "cell_type": "code",
   "execution_count": 1029,
   "id": "fbcd2b7e",
   "metadata": {},
   "outputs": [
    {
     "name": "stdout",
     "output_type": "stream",
     "text": [
      "Teste ADF: -1.641246\n",
      "p-value: 0.461610\n",
      "Valores Críticos:\n",
      "   1%: -3.431673361342282\n",
      "   5%: -2.8621247811548693\n",
      "   10%: -2.5670812799683316\n"
     ]
    }
   ],
   "source": [
    "X = df_nao_estacionario.y.values\n",
    "\n",
    "result = adfuller(X)\n",
    "print('Teste ADF: %f' % result[0])\n",
    "print('p-value: %f' % result[1])\n",
    "print('Valores Críticos:')\n",
    "\n",
    "for key, value in result[4].items():\n",
    "    print(f'   {key}: {value}')"
   ]
  },
  {
   "cell_type": "code",
   "execution_count": 1030,
   "id": "e6f2c74b",
   "metadata": {},
   "outputs": [],
   "source": [
    "df_estacionario = df.copy()\n",
    "df_estacionario['y'] = df_estacionario['y'].diff()\n",
    "df_estacionario = df_estacionario.dropna()"
   ]
  },
  {
   "cell_type": "code",
   "execution_count": 1031,
   "id": "64fa5be0",
   "metadata": {},
   "outputs": [
    {
     "data": {
      "text/html": [
       "<div>\n",
       "<style scoped>\n",
       "    .dataframe tbody tr th:only-of-type {\n",
       "        vertical-align: middle;\n",
       "    }\n",
       "\n",
       "    .dataframe tbody tr th {\n",
       "        vertical-align: top;\n",
       "    }\n",
       "\n",
       "    .dataframe thead th {\n",
       "        text-align: right;\n",
       "    }\n",
       "</style>\n",
       "<table border=\"1\" class=\"dataframe\">\n",
       "  <thead>\n",
       "    <tr style=\"text-align: right;\">\n",
       "      <th></th>\n",
       "      <th>ds</th>\n",
       "      <th>y</th>\n",
       "      <th>unique_id</th>\n",
       "    </tr>\n",
       "  </thead>\n",
       "  <tbody>\n",
       "    <tr>\n",
       "      <th>1</th>\n",
       "      <td>2025-07-08</td>\n",
       "      <td>1.822</td>\n",
       "      <td>ibovespa</td>\n",
       "    </tr>\n",
       "    <tr>\n",
       "      <th>2</th>\n",
       "      <td>2025-07-07</td>\n",
       "      <td>0.187</td>\n",
       "      <td>ibovespa</td>\n",
       "    </tr>\n",
       "    <tr>\n",
       "      <th>3</th>\n",
       "      <td>2025-07-04</td>\n",
       "      <td>1.774</td>\n",
       "      <td>ibovespa</td>\n",
       "    </tr>\n",
       "    <tr>\n",
       "      <th>4</th>\n",
       "      <td>2025-07-03</td>\n",
       "      <td>-0.336</td>\n",
       "      <td>ibovespa</td>\n",
       "    </tr>\n",
       "    <tr>\n",
       "      <th>5</th>\n",
       "      <td>2025-07-02</td>\n",
       "      <td>-1.877</td>\n",
       "      <td>ibovespa</td>\n",
       "    </tr>\n",
       "    <tr>\n",
       "      <th>...</th>\n",
       "      <td>...</td>\n",
       "      <td>...</td>\n",
       "      <td>...</td>\n",
       "    </tr>\n",
       "    <tr>\n",
       "      <th>4948</th>\n",
       "      <td>2005-07-15</td>\n",
       "      <td>-0.099</td>\n",
       "      <td>ibovespa</td>\n",
       "    </tr>\n",
       "    <tr>\n",
       "      <th>4949</th>\n",
       "      <td>2005-07-14</td>\n",
       "      <td>0.698</td>\n",
       "      <td>ibovespa</td>\n",
       "    </tr>\n",
       "    <tr>\n",
       "      <th>4950</th>\n",
       "      <td>2005-07-13</td>\n",
       "      <td>-0.064</td>\n",
       "      <td>ibovespa</td>\n",
       "    </tr>\n",
       "    <tr>\n",
       "      <th>4951</th>\n",
       "      <td>2005-07-12</td>\n",
       "      <td>-0.320</td>\n",
       "      <td>ibovespa</td>\n",
       "    </tr>\n",
       "    <tr>\n",
       "      <th>4952</th>\n",
       "      <td>2005-07-11</td>\n",
       "      <td>-0.520</td>\n",
       "      <td>ibovespa</td>\n",
       "    </tr>\n",
       "  </tbody>\n",
       "</table>\n",
       "<p>4952 rows × 3 columns</p>\n",
       "</div>"
      ],
      "text/plain": [
       "             ds      y unique_id\n",
       "1    2025-07-08  1.822  ibovespa\n",
       "2    2025-07-07  0.187  ibovespa\n",
       "3    2025-07-04  1.774  ibovespa\n",
       "4    2025-07-03 -0.336  ibovespa\n",
       "5    2025-07-02 -1.877  ibovespa\n",
       "...         ...    ...       ...\n",
       "4948 2005-07-15 -0.099  ibovespa\n",
       "4949 2005-07-14  0.698  ibovespa\n",
       "4950 2005-07-13 -0.064  ibovespa\n",
       "4951 2005-07-12 -0.320  ibovespa\n",
       "4952 2005-07-11 -0.520  ibovespa\n",
       "\n",
       "[4952 rows x 3 columns]"
      ]
     },
     "execution_count": 1031,
     "metadata": {},
     "output_type": "execute_result"
    }
   ],
   "source": [
    "df_estacionario = df_estacionario[['ds','y_diff', 'unique_id']]\n",
    "df_estacionario.rename(columns={ 'y_diff': 'y'}, inplace=True)\n",
    "df_estacionario"
   ]
  },
  {
   "cell_type": "code",
   "execution_count": 1032,
   "id": "c5f2bb7f",
   "metadata": {},
   "outputs": [
    {
     "name": "stdout",
     "output_type": "stream",
     "text": [
      "Teste ADF: -23.842915\n",
      "p-value: 0.000000\n",
      "Valores Críticos:\n",
      "   1%: -3.431673361342282\n",
      "   5%: -2.8621247811548693\n",
      "   10%: -2.5670812799683316\n"
     ]
    }
   ],
   "source": [
    "X = df_estacionario.y.values\n",
    "\n",
    "result = adfuller(X)\n",
    "print('Teste ADF: %f' % result[0])\n",
    "print('p-value: %f' % result[1])\n",
    "print('Valores Críticos:')\n",
    "\n",
    "for key, value in result[4].items():\n",
    "    print(f'   {key}: {value}')"
   ]
  },
  {
   "cell_type": "markdown",
   "id": "0a066feb",
   "metadata": {},
   "source": [
    "## Preparando nossa base para os modelos"
   ]
  },
  {
   "cell_type": "code",
   "execution_count": 1033,
   "id": "cc9adbcc",
   "metadata": {},
   "outputs": [
    {
     "data": {
      "text/html": [
       "<div>\n",
       "<style scoped>\n",
       "    .dataframe tbody tr th:only-of-type {\n",
       "        vertical-align: middle;\n",
       "    }\n",
       "\n",
       "    .dataframe tbody tr th {\n",
       "        vertical-align: top;\n",
       "    }\n",
       "\n",
       "    .dataframe thead th {\n",
       "        text-align: right;\n",
       "    }\n",
       "</style>\n",
       "<table border=\"1\" class=\"dataframe\">\n",
       "  <thead>\n",
       "    <tr style=\"text-align: right;\">\n",
       "      <th></th>\n",
       "      <th>ds</th>\n",
       "      <th>y</th>\n",
       "      <th>unique_id</th>\n",
       "    </tr>\n",
       "  </thead>\n",
       "  <tbody>\n",
       "    <tr>\n",
       "      <th>0</th>\n",
       "      <td>2025-07-09</td>\n",
       "      <td>137.481</td>\n",
       "      <td>ibovespa</td>\n",
       "    </tr>\n",
       "    <tr>\n",
       "      <th>1</th>\n",
       "      <td>2025-07-08</td>\n",
       "      <td>139.303</td>\n",
       "      <td>ibovespa</td>\n",
       "    </tr>\n",
       "    <tr>\n",
       "      <th>2</th>\n",
       "      <td>2025-07-07</td>\n",
       "      <td>139.490</td>\n",
       "      <td>ibovespa</td>\n",
       "    </tr>\n",
       "    <tr>\n",
       "      <th>3</th>\n",
       "      <td>2025-07-04</td>\n",
       "      <td>141.264</td>\n",
       "      <td>ibovespa</td>\n",
       "    </tr>\n",
       "    <tr>\n",
       "      <th>4</th>\n",
       "      <td>2025-07-03</td>\n",
       "      <td>140.928</td>\n",
       "      <td>ibovespa</td>\n",
       "    </tr>\n",
       "  </tbody>\n",
       "</table>\n",
       "</div>"
      ],
      "text/plain": [
       "          ds        y unique_id\n",
       "0 2025-07-09  137.481  ibovespa\n",
       "1 2025-07-08  139.303  ibovespa\n",
       "2 2025-07-07  139.490  ibovespa\n",
       "3 2025-07-04  141.264  ibovespa\n",
       "4 2025-07-03  140.928  ibovespa"
      ]
     },
     "execution_count": 1033,
     "metadata": {},
     "output_type": "execute_result"
    }
   ],
   "source": [
    "df_nao_estacionario.head()"
   ]
  },
  {
   "cell_type": "code",
   "execution_count": 1034,
   "id": "f11932a9",
   "metadata": {},
   "outputs": [
    {
     "data": {
      "text/html": [
       "<div>\n",
       "<style scoped>\n",
       "    .dataframe tbody tr th:only-of-type {\n",
       "        vertical-align: middle;\n",
       "    }\n",
       "\n",
       "    .dataframe tbody tr th {\n",
       "        vertical-align: top;\n",
       "    }\n",
       "\n",
       "    .dataframe thead th {\n",
       "        text-align: right;\n",
       "    }\n",
       "</style>\n",
       "<table border=\"1\" class=\"dataframe\">\n",
       "  <thead>\n",
       "    <tr style=\"text-align: right;\">\n",
       "      <th></th>\n",
       "      <th>ds</th>\n",
       "      <th>y</th>\n",
       "      <th>unique_id</th>\n",
       "    </tr>\n",
       "  </thead>\n",
       "  <tbody>\n",
       "    <tr>\n",
       "      <th>4948</th>\n",
       "      <td>2005-07-15</td>\n",
       "      <td>25.222</td>\n",
       "      <td>ibovespa</td>\n",
       "    </tr>\n",
       "    <tr>\n",
       "      <th>4949</th>\n",
       "      <td>2005-07-14</td>\n",
       "      <td>25.920</td>\n",
       "      <td>ibovespa</td>\n",
       "    </tr>\n",
       "    <tr>\n",
       "      <th>4950</th>\n",
       "      <td>2005-07-13</td>\n",
       "      <td>25.856</td>\n",
       "      <td>ibovespa</td>\n",
       "    </tr>\n",
       "    <tr>\n",
       "      <th>4951</th>\n",
       "      <td>2005-07-12</td>\n",
       "      <td>25.536</td>\n",
       "      <td>ibovespa</td>\n",
       "    </tr>\n",
       "    <tr>\n",
       "      <th>4952</th>\n",
       "      <td>2005-07-11</td>\n",
       "      <td>25.016</td>\n",
       "      <td>ibovespa</td>\n",
       "    </tr>\n",
       "  </tbody>\n",
       "</table>\n",
       "</div>"
      ],
      "text/plain": [
       "             ds       y unique_id\n",
       "4948 2005-07-15  25.222  ibovespa\n",
       "4949 2005-07-14  25.920  ibovespa\n",
       "4950 2005-07-13  25.856  ibovespa\n",
       "4951 2005-07-12  25.536  ibovespa\n",
       "4952 2005-07-11  25.016  ibovespa"
      ]
     },
     "execution_count": 1034,
     "metadata": {},
     "output_type": "execute_result"
    }
   ],
   "source": [
    "df_nao_estacionario.tail()"
   ]
  },
  {
   "cell_type": "markdown",
   "id": "77b596a1",
   "metadata": {},
   "source": [
    "Aqui estamos separando nossa base de dados de 25 Anos para o treino, e 30 dias úteis para treino."
   ]
  },
  {
   "cell_type": "markdown",
   "id": "d12a2173",
   "metadata": {},
   "source": [
    "base não estacionária."
   ]
  },
  {
   "cell_type": "code",
   "execution_count": 1035,
   "id": "44a183db",
   "metadata": {},
   "outputs": [
    {
     "data": {
      "text/plain": [
       "30"
      ]
     },
     "execution_count": 1035,
     "metadata": {},
     "output_type": "execute_result"
    }
   ],
   "source": [
    "treino_nao_estacionaria = df.loc[(df_nao_estacionario['ds']  >= '2000-05-09') & (df_nao_estacionario['ds'] < '2025-05-08')]\n",
    "\n",
    "valid_nao_estacionaria = df_nao_estacionario[(df_nao_estacionario['ds'] >= '2025-05-09') & (df_nao_estacionario['ds'] <= '2025-06-20')]\n",
    "\n",
    "h = valid_nao_estacionaria['ds'].nunique()\n",
    "\n",
    "h"
   ]
  },
  {
   "cell_type": "code",
   "execution_count": 1036,
   "id": "713d4fdc",
   "metadata": {},
   "outputs": [],
   "source": [
    "treino_nao_estacionaria = treino_nao_estacionaria[['ds', 'y', 'unique_id']]"
   ]
  },
  {
   "cell_type": "code",
   "execution_count": 1037,
   "id": "c26075b0",
   "metadata": {},
   "outputs": [
    {
     "data": {
      "text/html": [
       "<div>\n",
       "<style scoped>\n",
       "    .dataframe tbody tr th:only-of-type {\n",
       "        vertical-align: middle;\n",
       "    }\n",
       "\n",
       "    .dataframe tbody tr th {\n",
       "        vertical-align: top;\n",
       "    }\n",
       "\n",
       "    .dataframe thead th {\n",
       "        text-align: right;\n",
       "    }\n",
       "</style>\n",
       "<table border=\"1\" class=\"dataframe\">\n",
       "  <thead>\n",
       "    <tr style=\"text-align: right;\">\n",
       "      <th></th>\n",
       "      <th>ds</th>\n",
       "      <th>y</th>\n",
       "      <th>unique_id</th>\n",
       "    </tr>\n",
       "  </thead>\n",
       "  <tbody>\n",
       "    <tr>\n",
       "      <th>13</th>\n",
       "      <td>2025-06-20</td>\n",
       "      <td>137.116</td>\n",
       "      <td>ibovespa</td>\n",
       "    </tr>\n",
       "    <tr>\n",
       "      <th>14</th>\n",
       "      <td>2025-06-18</td>\n",
       "      <td>138.717</td>\n",
       "      <td>ibovespa</td>\n",
       "    </tr>\n",
       "    <tr>\n",
       "      <th>15</th>\n",
       "      <td>2025-06-17</td>\n",
       "      <td>138.840</td>\n",
       "      <td>ibovespa</td>\n",
       "    </tr>\n",
       "    <tr>\n",
       "      <th>16</th>\n",
       "      <td>2025-06-16</td>\n",
       "      <td>139.256</td>\n",
       "      <td>ibovespa</td>\n",
       "    </tr>\n",
       "    <tr>\n",
       "      <th>17</th>\n",
       "      <td>2025-06-13</td>\n",
       "      <td>137.213</td>\n",
       "      <td>ibovespa</td>\n",
       "    </tr>\n",
       "  </tbody>\n",
       "</table>\n",
       "</div>"
      ],
      "text/plain": [
       "           ds        y unique_id\n",
       "13 2025-06-20  137.116  ibovespa\n",
       "14 2025-06-18  138.717  ibovespa\n",
       "15 2025-06-17  138.840  ibovespa\n",
       "16 2025-06-16  139.256  ibovespa\n",
       "17 2025-06-13  137.213  ibovespa"
      ]
     },
     "execution_count": 1037,
     "metadata": {},
     "output_type": "execute_result"
    }
   ],
   "source": [
    "valid_nao_estacionaria.head()"
   ]
  },
  {
   "cell_type": "markdown",
   "id": "f67446d7",
   "metadata": {},
   "source": [
    "base estacionária."
   ]
  },
  {
   "cell_type": "code",
   "execution_count": 1038,
   "id": "b5cf7f9f",
   "metadata": {},
   "outputs": [
    {
     "data": {
      "text/html": [
       "<div>\n",
       "<style scoped>\n",
       "    .dataframe tbody tr th:only-of-type {\n",
       "        vertical-align: middle;\n",
       "    }\n",
       "\n",
       "    .dataframe tbody tr th {\n",
       "        vertical-align: top;\n",
       "    }\n",
       "\n",
       "    .dataframe thead th {\n",
       "        text-align: right;\n",
       "    }\n",
       "</style>\n",
       "<table border=\"1\" class=\"dataframe\">\n",
       "  <thead>\n",
       "    <tr style=\"text-align: right;\">\n",
       "      <th></th>\n",
       "      <th>ds</th>\n",
       "      <th>y</th>\n",
       "      <th>unique_id</th>\n",
       "    </tr>\n",
       "  </thead>\n",
       "  <tbody>\n",
       "    <tr>\n",
       "      <th>1</th>\n",
       "      <td>2025-07-08</td>\n",
       "      <td>1.822</td>\n",
       "      <td>ibovespa</td>\n",
       "    </tr>\n",
       "    <tr>\n",
       "      <th>2</th>\n",
       "      <td>2025-07-07</td>\n",
       "      <td>0.187</td>\n",
       "      <td>ibovespa</td>\n",
       "    </tr>\n",
       "    <tr>\n",
       "      <th>3</th>\n",
       "      <td>2025-07-04</td>\n",
       "      <td>1.774</td>\n",
       "      <td>ibovespa</td>\n",
       "    </tr>\n",
       "    <tr>\n",
       "      <th>4</th>\n",
       "      <td>2025-07-03</td>\n",
       "      <td>-0.336</td>\n",
       "      <td>ibovespa</td>\n",
       "    </tr>\n",
       "    <tr>\n",
       "      <th>5</th>\n",
       "      <td>2025-07-02</td>\n",
       "      <td>-1.877</td>\n",
       "      <td>ibovespa</td>\n",
       "    </tr>\n",
       "  </tbody>\n",
       "</table>\n",
       "</div>"
      ],
      "text/plain": [
       "          ds      y unique_id\n",
       "1 2025-07-08  1.822  ibovespa\n",
       "2 2025-07-07  0.187  ibovespa\n",
       "3 2025-07-04  1.774  ibovespa\n",
       "4 2025-07-03 -0.336  ibovespa\n",
       "5 2025-07-02 -1.877  ibovespa"
      ]
     },
     "execution_count": 1038,
     "metadata": {},
     "output_type": "execute_result"
    }
   ],
   "source": [
    "df_estacionario.head()"
   ]
  },
  {
   "cell_type": "code",
   "execution_count": 1039,
   "id": "85ca13f9",
   "metadata": {},
   "outputs": [
    {
     "data": {
      "text/plain": [
       "30"
      ]
     },
     "execution_count": 1039,
     "metadata": {},
     "output_type": "execute_result"
    }
   ],
   "source": [
    "treino_estacionaria = df_estacionario.loc[(df_estacionario['ds']  >= '2000-05-09') & (df_estacionario['ds'] < '2025-05-08')]\n",
    "\n",
    "valid_estacionaria = df_estacionario[(df_estacionario['ds'] >= '2025-05-09') & (df_estacionario['ds'] <= '2025-06-20')]\n",
    "\n",
    "h = valid_estacionaria['ds'].nunique()\n",
    "\n",
    "h"
   ]
  },
  {
   "cell_type": "code",
   "execution_count": 1040,
   "id": "14defcbd",
   "metadata": {},
   "outputs": [
    {
     "data": {
      "text/html": [
       "<div>\n",
       "<style scoped>\n",
       "    .dataframe tbody tr th:only-of-type {\n",
       "        vertical-align: middle;\n",
       "    }\n",
       "\n",
       "    .dataframe tbody tr th {\n",
       "        vertical-align: top;\n",
       "    }\n",
       "\n",
       "    .dataframe thead th {\n",
       "        text-align: right;\n",
       "    }\n",
       "</style>\n",
       "<table border=\"1\" class=\"dataframe\">\n",
       "  <thead>\n",
       "    <tr style=\"text-align: right;\">\n",
       "      <th></th>\n",
       "      <th>ds</th>\n",
       "      <th>y</th>\n",
       "      <th>unique_id</th>\n",
       "    </tr>\n",
       "  </thead>\n",
       "  <tbody>\n",
       "    <tr>\n",
       "      <th>44</th>\n",
       "      <td>2025-05-07</td>\n",
       "      <td>-2.834</td>\n",
       "      <td>ibovespa</td>\n",
       "    </tr>\n",
       "    <tr>\n",
       "      <th>45</th>\n",
       "      <td>2025-05-06</td>\n",
       "      <td>0.118</td>\n",
       "      <td>ibovespa</td>\n",
       "    </tr>\n",
       "    <tr>\n",
       "      <th>46</th>\n",
       "      <td>2025-05-05</td>\n",
       "      <td>-0.025</td>\n",
       "      <td>ibovespa</td>\n",
       "    </tr>\n",
       "    <tr>\n",
       "      <th>47</th>\n",
       "      <td>2025-05-02</td>\n",
       "      <td>1.643</td>\n",
       "      <td>ibovespa</td>\n",
       "    </tr>\n",
       "    <tr>\n",
       "      <th>48</th>\n",
       "      <td>2025-04-30</td>\n",
       "      <td>-0.067</td>\n",
       "      <td>ibovespa</td>\n",
       "    </tr>\n",
       "    <tr>\n",
       "      <th>...</th>\n",
       "      <td>...</td>\n",
       "      <td>...</td>\n",
       "      <td>...</td>\n",
       "    </tr>\n",
       "    <tr>\n",
       "      <th>4948</th>\n",
       "      <td>2005-07-15</td>\n",
       "      <td>-0.099</td>\n",
       "      <td>ibovespa</td>\n",
       "    </tr>\n",
       "    <tr>\n",
       "      <th>4949</th>\n",
       "      <td>2005-07-14</td>\n",
       "      <td>0.698</td>\n",
       "      <td>ibovespa</td>\n",
       "    </tr>\n",
       "    <tr>\n",
       "      <th>4950</th>\n",
       "      <td>2005-07-13</td>\n",
       "      <td>-0.064</td>\n",
       "      <td>ibovespa</td>\n",
       "    </tr>\n",
       "    <tr>\n",
       "      <th>4951</th>\n",
       "      <td>2005-07-12</td>\n",
       "      <td>-0.320</td>\n",
       "      <td>ibovespa</td>\n",
       "    </tr>\n",
       "    <tr>\n",
       "      <th>4952</th>\n",
       "      <td>2005-07-11</td>\n",
       "      <td>-0.520</td>\n",
       "      <td>ibovespa</td>\n",
       "    </tr>\n",
       "  </tbody>\n",
       "</table>\n",
       "<p>4909 rows × 3 columns</p>\n",
       "</div>"
      ],
      "text/plain": [
       "             ds      y unique_id\n",
       "44   2025-05-07 -2.834  ibovespa\n",
       "45   2025-05-06  0.118  ibovespa\n",
       "46   2025-05-05 -0.025  ibovespa\n",
       "47   2025-05-02  1.643  ibovespa\n",
       "48   2025-04-30 -0.067  ibovespa\n",
       "...         ...    ...       ...\n",
       "4948 2005-07-15 -0.099  ibovespa\n",
       "4949 2005-07-14  0.698  ibovespa\n",
       "4950 2005-07-13 -0.064  ibovespa\n",
       "4951 2005-07-12 -0.320  ibovespa\n",
       "4952 2005-07-11 -0.520  ibovespa\n",
       "\n",
       "[4909 rows x 3 columns]"
      ]
     },
     "execution_count": 1040,
     "metadata": {},
     "output_type": "execute_result"
    }
   ],
   "source": [
    "treino_estacionaria"
   ]
  },
  {
   "cell_type": "markdown",
   "id": "ba62d5f7",
   "metadata": {},
   "source": [
    "Agora iremos montar nossa função wmape para visualizarmos quanto os modelos estão acertando ou errando."
   ]
  },
  {
   "cell_type": "code",
   "execution_count": 1041,
   "id": "1d87e954",
   "metadata": {},
   "outputs": [],
   "source": [
    "def wmape(y_true, y_pred):\n",
    "    return np.abs(y_true - y_pred).sum() / np.abs(y_true).sum()"
   ]
  },
  {
   "cell_type": "markdown",
   "id": "7db8ee2b",
   "metadata": {},
   "source": [
    "# Criando Modelo"
   ]
  },
  {
   "cell_type": "code",
   "execution_count": 1042,
   "id": "e62689cd",
   "metadata": {},
   "outputs": [
    {
     "data": {
      "text/html": [
       "<div>\n",
       "<style scoped>\n",
       "    .dataframe tbody tr th:only-of-type {\n",
       "        vertical-align: middle;\n",
       "    }\n",
       "\n",
       "    .dataframe tbody tr th {\n",
       "        vertical-align: top;\n",
       "    }\n",
       "\n",
       "    .dataframe thead th {\n",
       "        text-align: right;\n",
       "    }\n",
       "</style>\n",
       "<table border=\"1\" class=\"dataframe\">\n",
       "  <thead>\n",
       "    <tr style=\"text-align: right;\">\n",
       "      <th></th>\n",
       "      <th>ds</th>\n",
       "      <th>y</th>\n",
       "      <th>unique_id</th>\n",
       "    </tr>\n",
       "  </thead>\n",
       "  <tbody>\n",
       "    <tr>\n",
       "      <th>13</th>\n",
       "      <td>2025-06-20</td>\n",
       "      <td>137.116</td>\n",
       "      <td>ibovespa</td>\n",
       "    </tr>\n",
       "    <tr>\n",
       "      <th>14</th>\n",
       "      <td>2025-06-18</td>\n",
       "      <td>138.717</td>\n",
       "      <td>ibovespa</td>\n",
       "    </tr>\n",
       "    <tr>\n",
       "      <th>15</th>\n",
       "      <td>2025-06-17</td>\n",
       "      <td>138.840</td>\n",
       "      <td>ibovespa</td>\n",
       "    </tr>\n",
       "    <tr>\n",
       "      <th>16</th>\n",
       "      <td>2025-06-16</td>\n",
       "      <td>139.256</td>\n",
       "      <td>ibovespa</td>\n",
       "    </tr>\n",
       "    <tr>\n",
       "      <th>17</th>\n",
       "      <td>2025-06-13</td>\n",
       "      <td>137.213</td>\n",
       "      <td>ibovespa</td>\n",
       "    </tr>\n",
       "  </tbody>\n",
       "</table>\n",
       "</div>"
      ],
      "text/plain": [
       "           ds        y unique_id\n",
       "13 2025-06-20  137.116  ibovespa\n",
       "14 2025-06-18  138.717  ibovespa\n",
       "15 2025-06-17  138.840  ibovespa\n",
       "16 2025-06-16  139.256  ibovespa\n",
       "17 2025-06-13  137.213  ibovespa"
      ]
     },
     "execution_count": 1042,
     "metadata": {},
     "output_type": "execute_result"
    }
   ],
   "source": [
    "valid_nao_estacionaria.head()"
   ]
  },
  {
   "cell_type": "code",
   "execution_count": 1043,
   "id": "9a0d5dfb",
   "metadata": {},
   "outputs": [
    {
     "name": "stdout",
     "output_type": "stream",
     "text": [
      "WMAPE:  3.32%\n"
     ]
    }
   ],
   "source": [
    "model_nao_estacionario = StatsForecast(models=[Naive()], freq='D', n_jobs=-1)\n",
    "\n",
    "model_nao_estacionario.fit(treino_nao_estacionaria)\n",
    "\n",
    "forecast_df_nao_estacionario = model_nao_estacionario.predict(h=h, level=[90])\n",
    "\n",
    "forecast_df_nao_estacionario = forecast_df_nao_estacionario.reset_index().merge(valid_nao_estacionaria, on=['ds', 'unique_id'], how='left')\n",
    "\n",
    "forecast_df_nao_estacionario = forecast_df_nao_estacionario.dropna(subset=[\"y\"])\n",
    "\n",
    "wmape1 = wmape(forecast_df_nao_estacionario['y'].values, forecast_df_nao_estacionario['Naive'].values)\n",
    "\n",
    "print(f'WMAPE: {wmape1: .2%}')"
   ]
  },
  {
   "cell_type": "markdown",
   "id": "c8cca50a",
   "metadata": {},
   "source": [
    "fazendo o modelo com o nosso df_estacionario"
   ]
  },
  {
   "cell_type": "code",
   "execution_count": 1054,
   "id": "c8332932",
   "metadata": {},
   "outputs": [
    {
     "name": "stdout",
     "output_type": "stream",
     "text": [
      "WMAPE:  390.79%\n"
     ]
    }
   ],
   "source": [
    "model_estacionario = StatsForecast(models=[Naive()], freq='D', n_jobs=-1)\n",
    "\n",
    "model_estacionario.fit(treino_estacionaria)\n",
    "\n",
    "forecast_df_estacionario = model_estacionario.predict(h=h, level=[90])\n",
    "\n",
    "forecast_df_estacionario = forecast_df_estacionario.reset_index().merge(valid_estacionaria, on=['ds', 'unique_id'], how='left')\n",
    "\n",
    "forecast_df_estacionario = forecast_df_estacionario.dropna(subset=[\"y\"])\n",
    "\n",
    "wmape1 = wmape(forecast_df_estacionario['y'].values, forecast_df_estacionario['Naive'].values)\n",
    "\n",
    "print(f'WMAPE: {wmape1: .2%}')"
   ]
  },
  {
   "cell_type": "markdown",
   "id": "856d72d3",
   "metadata": {},
   "source": [
    "## Modelo de sazonalidade"
   ]
  },
  {
   "cell_type": "code",
   "execution_count": 1055,
   "id": "bff718bb",
   "metadata": {},
   "outputs": [
    {
     "name": "stdout",
     "output_type": "stream",
     "text": [
      "WMAPE:  2.77%\n"
     ]
    }
   ],
   "source": [
    "model_s_nao_estacionario = StatsForecast(models=[SeasonalNaive(season_length=7)], freq='D', n_jobs=-1)\n",
    "\n",
    "model_s_nao_estacionario.fit(treino_nao_estacionaria)\n",
    "\n",
    "forecast_df_s_nao_estacionario = model_s_nao_estacionario.predict(h=h, level=[90])\n",
    "\n",
    "forecast_df_s_nao_estacionario = forecast_df_s_nao_estacionario.reset_index().merge(valid_nao_estacionaria, on=['ds', 'unique_id'], how='left')\n",
    "\n",
    "forecast_df_s_nao_estacionario = forecast_df_s_nao_estacionario.dropna(subset=[\"y\"])\n",
    "\n",
    "wmape2 = wmape(forecast_df_s_nao_estacionario['y'].values, forecast_df_s_nao_estacionario['SeasonalNaive'].values)\n",
    "\n",
    "print(f'WMAPE: {wmape2: .2%}')"
   ]
  },
  {
   "cell_type": "code",
   "execution_count": 1056,
   "id": "305c9a40",
   "metadata": {},
   "outputs": [
    {
     "name": "stdout",
     "output_type": "stream",
     "text": [
      "WMAPE:  159.09%\n"
     ]
    }
   ],
   "source": [
    "model_s_estacionario = StatsForecast(models=[SeasonalNaive(season_length=7)], freq='D', n_jobs=-1)\n",
    "\n",
    "model_s_estacionario.fit(treino_estacionaria)\n",
    "\n",
    "forecast_df_s_estacionario = model_s_estacionario.predict(h=h, level=[90])\n",
    "\n",
    "forecast_df_s_estacionario = forecast_df_s_estacionario.reset_index().merge(valid_estacionaria, on=['ds', 'unique_id'], how='left')\n",
    "\n",
    "forecast_df_s_estacionario = forecast_df_s_estacionario.dropna(subset=[\"y\"])\n",
    "\n",
    "wmape2 = wmape(forecast_df_s_estacionario['y'].values, forecast_df_s_estacionario['SeasonalNaive'].values)\n",
    "\n",
    "print(f'WMAPE: {wmape2: .2%}')"
   ]
  },
  {
   "cell_type": "markdown",
   "id": "ee79737b",
   "metadata": {},
   "source": [
    "## Modelo de sazonalidade junto com a média model"
   ]
  },
  {
   "cell_type": "code",
   "execution_count": 1057,
   "id": "d883bd2a",
   "metadata": {},
   "outputs": [
    {
     "name": "stdout",
     "output_type": "stream",
     "text": [
      "WMAPE:  3.68%\n"
     ]
    }
   ],
   "source": [
    "\n",
    "model_sm_nao_estacionaria = StatsForecast(models=[SeasonalWindowAverage(season_length=7, window_size=2)], freq='D', n_jobs=-1)\n",
    "\n",
    "model_sm_nao_estacionaria.fit(treino_nao_estacionaria)\n",
    "\n",
    "forecast_df_sm_nao_estacionaria = model_sm_nao_estacionaria.predict(h=h)\n",
    "\n",
    "forecast_df_sm_nao_estacionaria = forecast_df_sm_nao_estacionaria.reset_index().merge(valid_nao_estacionaria, on=['ds', 'unique_id'], how='left')\n",
    "\n",
    "forecast_df_sm_nao_estacionaria = forecast_df_sm_nao_estacionaria.dropna(subset=[\"y\"])\n",
    "\n",
    "wmape3 = wmape(forecast_df_sm_nao_estacionaria['y'].values, forecast_df_sm_nao_estacionaria['SeasWA'].values)\n",
    "\n",
    "print(f'WMAPE: {wmape3: .2%}')"
   ]
  },
  {
   "cell_type": "code",
   "execution_count": 1058,
   "id": "5325fc57",
   "metadata": {},
   "outputs": [
    {
     "name": "stdout",
     "output_type": "stream",
     "text": [
      "WMAPE:  125.58%\n"
     ]
    }
   ],
   "source": [
    "\n",
    "model_sm_estacionaria = StatsForecast(models=[SeasonalWindowAverage(season_length=7, window_size=2)], freq='D', n_jobs=-1)\n",
    "\n",
    "model_sm_estacionaria.fit(treino_estacionaria)\n",
    "\n",
    "forecast_df_sm_estacionaria = model_sm_estacionaria.predict(h=h)\n",
    "\n",
    "forecast_df_sm_estacionaria = forecast_df_sm_estacionaria.reset_index().merge(valid_estacionaria, on=['ds', 'unique_id'], how='left')\n",
    "\n",
    "forecast_df_sm_estacionaria = forecast_df_sm_estacionaria.dropna(subset=[\"y\"])\n",
    "\n",
    "wmape3 = wmape(forecast_df_sm_estacionaria['y'].values, forecast_df_sm_estacionaria['SeasWA'].values)\n",
    "\n",
    "print(f'WMAPE: {wmape3: .2%}')"
   ]
  },
  {
   "cell_type": "markdown",
   "id": "8a80197b",
   "metadata": {},
   "source": [
    "## Modelo ARIMA"
   ]
  },
  {
   "cell_type": "code",
   "execution_count": 1059,
   "id": "6b65e848",
   "metadata": {},
   "outputs": [
    {
     "name": "stdout",
     "output_type": "stream",
     "text": [
      "WMAPE:  3.37%\n"
     ]
    }
   ],
   "source": [
    "\n",
    "model_a_nao_estacionaria = StatsForecast(models=[AutoARIMA(season_length=7)], freq='D', n_jobs=-1)\n",
    "\n",
    "model_a_nao_estacionaria.fit(treino_nao_estacionaria)\n",
    "\n",
    "forecast_df_a_nao_estacionaria = model_a_nao_estacionaria.predict(h=h, level=[90])\n",
    "\n",
    "forecast_df_a_nao_estacionaria = forecast_df_a_nao_estacionaria.reset_index().merge(valid_nao_estacionaria, on=['ds', 'unique_id'], how='left')\n",
    "\n",
    "forecast_df_a_nao_estacionaria = forecast_df_a_nao_estacionaria.dropna(subset=[\"y\"])\n",
    "\n",
    "wmape4 = wmape(forecast_df_a_nao_estacionaria['y'].values, forecast_df_a_nao_estacionaria['AutoARIMA'].values)\n",
    "\n",
    "print(f'WMAPE: {wmape4: .2%}')"
   ]
  },
  {
   "cell_type": "code",
   "execution_count": 1050,
   "id": "d0cf0b74",
   "metadata": {},
   "outputs": [
    {
     "name": "stdout",
     "output_type": "stream",
     "text": [
      "WMAPE:  98.73%\n"
     ]
    }
   ],
   "source": [
    "\n",
    "model_a_estacionaria = StatsForecast(models=[AutoARIMA(season_length=7)], freq='D', n_jobs=-1)\n",
    "\n",
    "model_a_estacionaria.fit(treino_estacionaria)\n",
    "\n",
    "forecast_df_a_estacionaria = model_a_estacionaria.predict(h=h, level=[90])\n",
    "\n",
    "forecast_df_a_estacionaria = forecast_df_a_estacionaria.reset_index().merge(valid_estacionaria, on=['ds', 'unique_id'], how='left')\n",
    "\n",
    "forecast_df_a_estacionaria = forecast_df_a_estacionaria.dropna(subset=[\"y\"])\n",
    "\n",
    "wmape4 = wmape(forecast_df_a_estacionaria['y'].values, forecast_df_a_estacionaria['AutoARIMA'].values)\n",
    "\n",
    "print(f'WMAPE: {wmape4: .2%}')"
   ]
  }
 ],
 "metadata": {
  "kernelspec": {
   "display_name": "Python 3",
   "language": "python",
   "name": "python3"
  },
  "language_info": {
   "codemirror_mode": {
    "name": "ipython",
    "version": 3
   },
   "file_extension": ".py",
   "mimetype": "text/x-python",
   "name": "python",
   "nbconvert_exporter": "python",
   "pygments_lexer": "ipython3",
   "version": "3.11.2"
  }
 },
 "nbformat": 4,
 "nbformat_minor": 5
}
