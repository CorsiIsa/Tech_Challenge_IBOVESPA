{
 "cells": [
  {
   "cell_type": "markdown",
   "id": "c996e6fc",
   "metadata": {},
   "source": [
    "# Tech Challenge 2 - Previsão de Tendência do IBOVESPA\n",
    "\n",
    "## Estrutura inicial com base nas aulas da pós\n",
    "Este projeto tem como objetivo prever se o IBOVESPA terá uma alta ou queda no dia seguinte, utilizando duas abordagens:\n",
    "- Modelos de séries temporais (ARIMA), para prever valores futuros e extrair direção;\n",
    "- Modelos supervisionados de classificação (como Regressão Logística e Random Forest), para prever a direção com base em variáveis derivadas.\n",
    "\n",
    "A proposta do desafio exige transformar a previsão numérica em uma classificação binária de direção: 1 (alta), 0 (queda).\n",
    "\n",
    "A base de dados contém informações diárias do índice IBOVESPA no período de 30/06/2023 a 30/06/2025. Cada linha representa um pregão da bolsa de valores. \n",
    "\n",
    "As variáveis presentes na base são:\n",
    "- Data: Data do pregão, atualmente no formato string, que será convertida para datetime para facilitar ordenação e manipulação temporal.\n",
    "- Último: Valor de fechamento do IBOVESPA no final do dia, representado em mil pontos. Tipo float.\n",
    "- Abertura: Valor de abertura do IBOVESPA no início do dia, também em mil pontos. Tipo float.\n",
    "- Máxima: Maior valor alcançado pelo IBOVESPA durante o dia. Tipo float.\n",
    "- Mínima: Menor valor alcançado pelo IBOVESPA durante o dia. Tipo float.\n",
    "- Vol.: Volume financeiro negociado no dia, representado como string com sufixo “B” para bilhões (exemplo: 7,68B). Essa variável será convertida para número absoluto (float) posteriormente.\n",
    "- Var%: Variação percentual diária do IBOVESPA, representada como string com símbolo de porcentagem e vírgula como decimal (exemplo: +1,45%). Será convertida para número decimal (float) para uso no modelo.\n"
   ]
  },
  {
   "cell_type": "markdown",
   "id": "c4668911",
   "metadata": {},
   "source": [
    "## 1 - Importação das bibliotecas"
   ]
  },
  {
   "cell_type": "code",
   "execution_count": 1420,
   "id": "038fb586",
   "metadata": {},
   "outputs": [],
   "source": [
    "# Importação das bibliotecas necessárias para manipulação de dados, visualização e modelagem\n",
    "import pandas as pd\n",
    "import numpy as np\n",
    "import matplotlib.pyplot as plt\n",
    "import seaborn as sns\n",
    "\n",
    "# Modelos estatísticos e machine learning\n",
    "from sklearn.preprocessing import StandardScaler\n",
    "from sklearn.linear_model import LogisticRegression\n",
    "from sklearn.ensemble import RandomForestClassifier\n",
    "from sklearn.metrics import accuracy_score, classification_report, confusion_matrix\n",
    "from statsmodels.tsa.stattools import adfuller\n",
    "from statsmodels.tsa.arima.model import ARIMA\n",
    "from statsforecast.models import AutoARIMA\n",
    "from statsforecast import StatsForecast"
   ]
  },
  {
   "cell_type": "markdown",
   "id": "12532552",
   "metadata": {},
   "source": [
    "## 2 - Carregamento e transformacao dos dados"
   ]
  },
  {
   "cell_type": "code",
   "execution_count": 1421,
   "id": "c232fcb7",
   "metadata": {},
   "outputs": [
    {
     "data": {
      "text/html": [
       "<div>\n",
       "<style scoped>\n",
       "    .dataframe tbody tr th:only-of-type {\n",
       "        vertical-align: middle;\n",
       "    }\n",
       "\n",
       "    .dataframe tbody tr th {\n",
       "        vertical-align: top;\n",
       "    }\n",
       "\n",
       "    .dataframe thead th {\n",
       "        text-align: right;\n",
       "    }\n",
       "</style>\n",
       "<table border=\"1\" class=\"dataframe\">\n",
       "  <thead>\n",
       "    <tr style=\"text-align: right;\">\n",
       "      <th></th>\n",
       "      <th>Data</th>\n",
       "      <th>Último</th>\n",
       "      <th>Abertura</th>\n",
       "      <th>Máxima</th>\n",
       "      <th>Mínima</th>\n",
       "      <th>Vol.</th>\n",
       "      <th>Var%</th>\n",
       "    </tr>\n",
       "  </thead>\n",
       "  <tbody>\n",
       "    <tr>\n",
       "      <th>0</th>\n",
       "      <td>30.06.2025</td>\n",
       "      <td>138.855</td>\n",
       "      <td>136.865</td>\n",
       "      <td>139.103</td>\n",
       "      <td>136.430</td>\n",
       "      <td>7,68B</td>\n",
       "      <td>1,45%</td>\n",
       "    </tr>\n",
       "    <tr>\n",
       "      <th>1</th>\n",
       "      <td>27.06.2025</td>\n",
       "      <td>136.866</td>\n",
       "      <td>137.113</td>\n",
       "      <td>137.209</td>\n",
       "      <td>136.469</td>\n",
       "      <td>6,24B</td>\n",
       "      <td>-0,18%</td>\n",
       "    </tr>\n",
       "    <tr>\n",
       "      <th>2</th>\n",
       "      <td>26.06.2025</td>\n",
       "      <td>137.114</td>\n",
       "      <td>135.767</td>\n",
       "      <td>137.353</td>\n",
       "      <td>135.756</td>\n",
       "      <td>8,02B</td>\n",
       "      <td>0,99%</td>\n",
       "    </tr>\n",
       "    <tr>\n",
       "      <th>3</th>\n",
       "      <td>25.06.2025</td>\n",
       "      <td>135.767</td>\n",
       "      <td>137.163</td>\n",
       "      <td>137.163</td>\n",
       "      <td>135.565</td>\n",
       "      <td>7,71B</td>\n",
       "      <td>-1,02%</td>\n",
       "    </tr>\n",
       "    <tr>\n",
       "      <th>4</th>\n",
       "      <td>24.06.2025</td>\n",
       "      <td>137.165</td>\n",
       "      <td>136.552</td>\n",
       "      <td>138.156</td>\n",
       "      <td>136.254</td>\n",
       "      <td>8,08B</td>\n",
       "      <td>0,45%</td>\n",
       "    </tr>\n",
       "  </tbody>\n",
       "</table>\n",
       "</div>"
      ],
      "text/plain": [
       "         Data   Último  Abertura   Máxima   Mínima   Vol.    Var%\n",
       "0  30.06.2025  138.855   136.865  139.103  136.430  7,68B   1,45%\n",
       "1  27.06.2025  136.866   137.113  137.209  136.469  6,24B  -0,18%\n",
       "2  26.06.2025  137.114   135.767  137.353  135.756  8,02B   0,99%\n",
       "3  25.06.2025  135.767   137.163  137.163  135.565  7,71B  -1,02%\n",
       "4  24.06.2025  137.165   136.552  138.156  136.254  8,08B   0,45%"
      ]
     },
     "execution_count": 1421,
     "metadata": {},
     "output_type": "execute_result"
    }
   ],
   "source": [
    "# Carregar csv\n",
    "df = pd.read_csv('techchallenge_Ibovespa.csv')\n",
    "\n",
    "# Visualização inicial\n",
    "df.head()"
   ]
  },
  {
   "cell_type": "markdown",
   "id": "ad55998f",
   "metadata": {},
   "source": [
    "### Verificando tipos de dados e informações gerais"
   ]
  },
  {
   "cell_type": "code",
   "execution_count": 1422,
   "id": "a9876ea2",
   "metadata": {},
   "outputs": [
    {
     "name": "stdout",
     "output_type": "stream",
     "text": [
      "<class 'pandas.core.frame.DataFrame'>\n",
      "RangeIndex: 498 entries, 0 to 497\n",
      "Data columns (total 7 columns):\n",
      " #   Column    Non-Null Count  Dtype  \n",
      "---  ------    --------------  -----  \n",
      " 0   Data      498 non-null    object \n",
      " 1   Último    498 non-null    float64\n",
      " 2   Abertura  498 non-null    float64\n",
      " 3   Máxima    498 non-null    float64\n",
      " 4   Mínima    498 non-null    float64\n",
      " 5   Vol.      498 non-null    object \n",
      " 6   Var%      498 non-null    object \n",
      "dtypes: float64(4), object(3)\n",
      "memory usage: 27.4+ KB\n"
     ]
    }
   ],
   "source": [
    "#ver tipo de dados\n",
    "df.info()"
   ]
  },
  {
   "cell_type": "code",
   "execution_count": 1423,
   "id": "922ecbc4",
   "metadata": {},
   "outputs": [
    {
     "data": {
      "text/html": [
       "<div>\n",
       "<style scoped>\n",
       "    .dataframe tbody tr th:only-of-type {\n",
       "        vertical-align: middle;\n",
       "    }\n",
       "\n",
       "    .dataframe tbody tr th {\n",
       "        vertical-align: top;\n",
       "    }\n",
       "\n",
       "    .dataframe thead th {\n",
       "        text-align: right;\n",
       "    }\n",
       "</style>\n",
       "<table border=\"1\" class=\"dataframe\">\n",
       "  <thead>\n",
       "    <tr style=\"text-align: right;\">\n",
       "      <th></th>\n",
       "      <th>Último</th>\n",
       "      <th>Abertura</th>\n",
       "      <th>Máxima</th>\n",
       "      <th>Mínima</th>\n",
       "    </tr>\n",
       "  </thead>\n",
       "  <tbody>\n",
       "    <tr>\n",
       "      <th>count</th>\n",
       "      <td>498.000000</td>\n",
       "      <td>498.000000</td>\n",
       "      <td>498.000000</td>\n",
       "      <td>498.000000</td>\n",
       "    </tr>\n",
       "    <tr>\n",
       "      <th>mean</th>\n",
       "      <td>126.639944</td>\n",
       "      <td>126.599357</td>\n",
       "      <td>127.417908</td>\n",
       "      <td>125.861281</td>\n",
       "    </tr>\n",
       "    <tr>\n",
       "      <th>std</th>\n",
       "      <td>6.319785</td>\n",
       "      <td>6.306578</td>\n",
       "      <td>6.275376</td>\n",
       "      <td>6.308730</td>\n",
       "    </tr>\n",
       "    <tr>\n",
       "      <th>min</th>\n",
       "      <td>112.532000</td>\n",
       "      <td>112.534000</td>\n",
       "      <td>113.597000</td>\n",
       "      <td>111.599000</td>\n",
       "    </tr>\n",
       "    <tr>\n",
       "      <th>25%</th>\n",
       "      <td>122.159250</td>\n",
       "      <td>122.101250</td>\n",
       "      <td>122.837750</td>\n",
       "      <td>121.266500</td>\n",
       "    </tr>\n",
       "    <tr>\n",
       "      <th>50%</th>\n",
       "      <td>127.317000</td>\n",
       "      <td>127.311000</td>\n",
       "      <td>127.994500</td>\n",
       "      <td>126.496500</td>\n",
       "    </tr>\n",
       "    <tr>\n",
       "      <th>75%</th>\n",
       "      <td>130.777250</td>\n",
       "      <td>130.710500</td>\n",
       "      <td>131.502000</td>\n",
       "      <td>130.053500</td>\n",
       "    </tr>\n",
       "    <tr>\n",
       "      <th>max</th>\n",
       "      <td>140.110000</td>\n",
       "      <td>140.109000</td>\n",
       "      <td>140.382000</td>\n",
       "      <td>138.966000</td>\n",
       "    </tr>\n",
       "  </tbody>\n",
       "</table>\n",
       "</div>"
      ],
      "text/plain": [
       "           Último    Abertura      Máxima      Mínima\n",
       "count  498.000000  498.000000  498.000000  498.000000\n",
       "mean   126.639944  126.599357  127.417908  125.861281\n",
       "std      6.319785    6.306578    6.275376    6.308730\n",
       "min    112.532000  112.534000  113.597000  111.599000\n",
       "25%    122.159250  122.101250  122.837750  121.266500\n",
       "50%    127.317000  127.311000  127.994500  126.496500\n",
       "75%    130.777250  130.710500  131.502000  130.053500\n",
       "max    140.110000  140.109000  140.382000  138.966000"
      ]
     },
     "execution_count": 1423,
     "metadata": {},
     "output_type": "execute_result"
    }
   ],
   "source": [
    "#métricas iniciais\n",
    "df.describe()"
   ]
  },
  {
   "cell_type": "code",
   "execution_count": 1424,
   "id": "3042f494",
   "metadata": {},
   "outputs": [],
   "source": [
    "# Corrigir valores com 'B' e 'M'\n",
    "df['Vol.'] = (df['Vol.'].str.replace('.', '', regex=False)\n",
    "                         .str.replace(',', '.', regex=False)\n",
    "                         .str.replace('B', '', regex=False)\n",
    "                         .str.replace('M', '', regex=False)\n",
    "                         .astype(float))\n",
    "\n",
    "# Ajustar escala\n",
    "df.loc[df['Vol.'] < 1000, 'Vol.'] *= 1e6  # Se for 'M', multiplica por 1 milhão\n",
    "df.loc[df['Vol.'] >= 1000, 'Vol.'] *= 1e9  # Se for 'B' já limpado, multiplica por 1 bilhão"
   ]
  },
  {
   "cell_type": "code",
   "execution_count": 1425,
   "id": "34742b6b",
   "metadata": {},
   "outputs": [
    {
     "name": "stdout",
     "output_type": "stream",
     "text": [
      "<class 'pandas.core.frame.DataFrame'>\n",
      "RangeIndex: 498 entries, 0 to 497\n",
      "Data columns (total 7 columns):\n",
      " #   Column    Non-Null Count  Dtype  \n",
      "---  ------    --------------  -----  \n",
      " 0   Data      498 non-null    object \n",
      " 1   Último    498 non-null    float64\n",
      " 2   Abertura  498 non-null    float64\n",
      " 3   Máxima    498 non-null    float64\n",
      " 4   Mínima    498 non-null    float64\n",
      " 5   Vol.      498 non-null    float64\n",
      " 6   Var%      498 non-null    object \n",
      "dtypes: float64(5), object(2)\n",
      "memory usage: 27.4+ KB\n"
     ]
    }
   ],
   "source": [
    "#validar\n",
    "df.info()"
   ]
  },
  {
   "cell_type": "code",
   "execution_count": 1426,
   "id": "1608e2b0",
   "metadata": {},
   "outputs": [],
   "source": [
    "#date para datetime\n",
    "df['Data'] = pd.to_datetime(df['Data'], format='%d.%m.%Y', dayfirst=True)\n",
    "df = df.sort_values(by='Data').reset_index(drop=True)"
   ]
  },
  {
   "cell_type": "code",
   "execution_count": 1427,
   "id": "16b20672",
   "metadata": {},
   "outputs": [],
   "source": [
    "#Converter a coluna Var% para float (para correlação, gráficos, etc):\n",
    "df['Var%'] = (df['Var%']\n",
    "              .str.replace(',', '.', regex=False)\n",
    "              .str.replace('%', '', regex=False)\n",
    "              .astype(float))"
   ]
  },
  {
   "cell_type": "code",
   "execution_count": 1428,
   "id": "9e7b960b",
   "metadata": {},
   "outputs": [
    {
     "name": "stdout",
     "output_type": "stream",
     "text": [
      "<class 'pandas.core.frame.DataFrame'>\n",
      "RangeIndex: 498 entries, 0 to 497\n",
      "Data columns (total 7 columns):\n",
      " #   Column    Non-Null Count  Dtype         \n",
      "---  ------    --------------  -----         \n",
      " 0   Data      498 non-null    datetime64[ns]\n",
      " 1   Último    498 non-null    float64       \n",
      " 2   Abertura  498 non-null    float64       \n",
      " 3   Máxima    498 non-null    float64       \n",
      " 4   Mínima    498 non-null    float64       \n",
      " 5   Vol.      498 non-null    float64       \n",
      " 6   Var%      498 non-null    float64       \n",
      "dtypes: datetime64[ns](1), float64(6)\n",
      "memory usage: 27.4 KB\n"
     ]
    }
   ],
   "source": [
    "#validar\n",
    "df.info()"
   ]
  },
  {
   "cell_type": "markdown",
   "id": "51c03ddc",
   "metadata": {},
   "source": [
    "### 2 - Exploraçao de dados (EDA)\n"
   ]
  },
  {
   "cell_type": "markdown",
   "id": "32e616be",
   "metadata": {},
   "source": [
    "#### 1 - Como o IBOVESPA evoluiu ao longo dos últimos 2 anos?\n",
    "Entender padrões de alta, baixa, estabilidade ou volatilidade no tempo.\n"
   ]
  },
  {
   "cell_type": "code",
   "execution_count": 1429,
   "id": "dc9986ce",
   "metadata": {},
   "outputs": [
    {
     "data": {
      "image/png": "[encoded data removed]",
      "text/plain": [
       "<Figure size 1200x600 with 1 Axes>"
      ]
     },
     "metadata": {},
     "output_type": "display_data"
    }
   ],
   "source": [
    "#linha temporal\n",
    "plt.figure(figsize=(12, 6))\n",
    "plt.plot(df['Data'], df['Último'], color='blue')\n",
    "plt.title('Evolução do IBOVESPA - Fechamento Diário')\n",
    "plt.xlabel('Data')\n",
    "plt.ylabel('Pontos do IBOVESPA')\n",
    "plt.show()"
   ]
  },
  {
   "cell_type": "markdown",
   "id": "c96c570b",
   "metadata": {},
   "source": [
    "##### Possiveis análises:\n",
    "    1. O IBOVESPA passou por ciclos claros de alta e baixa nesse período.\n",
    "\t2.\tExiste uma volatilidade relevante: o índice varia com certa frequência, não há estabilidade constante.\n",
    "\t3.\tAlguns momentos apresentam quedas bruscas seguidas de recuperações rápidas (ex.: fim de 2023 e meados de 2024).\n",
    "\t4.\tNos últimos meses, o índice está em uma tendência de alta consistente, recuperando patamares próximos aos maiores do período."
   ]
  },
  {
   "cell_type": "markdown",
   "id": "95614bd2",
   "metadata": {},
   "source": [
    "#### 2 - Qual é o comportamento das variações diárias? Elas são pequenas, grandes, ou extremas?\n",
    " Entender se as variações são concentradas próximas de 0 (mercado estável) ou se há muitas oscilações extremas."
   ]
  },
  {
   "cell_type": "code",
   "execution_count": 1430,
   "id": "65aefbd4",
   "metadata": {},
   "outputs": [
    {
     "data": {
      "image/png": "[encoded data removed]",
      "text/plain": [
       "<Figure size 800x400 with 1 Axes>"
      ]
     },
     "metadata": {},
     "output_type": "display_data"
    }
   ],
   "source": [
    "#Histograma + KDE (densidade)\n",
    "plt.figure(figsize=(8, 4))\n",
    "sns.histplot(df['Var%'], bins=30, kde=True)\n",
    "plt.title('Distribuição da Variação Percentual Diária')\n",
    "plt.xlabel('Variação (%)')\n",
    "plt.ylabel('Frequência')\n",
    "plt.show()"
   ]
  },
  {
   "cell_type": "markdown",
   "id": "cc570f24",
   "metadata": {},
   "source": [
    "##### Possiveis análises:\n",
    "\t1.\tA distribuição da variação percentual diária do IBOVESPA é concentrada perto de 0%.\n",
    "\t2.\tA maioria dos pregões oscila entre -1% e +1%.\n",
    "\t3.\tExistem poucos dias com variações extremas acima de +2% ou abaixo de -2%.\n",
    "\t4.\tO formato da distribuição lembra uma curva normal (Gaussiana, onde a maior parte dos valores está concentrada perto da média.), com leve viés negativo (cauda mais alongada no lado das quedas)."
   ]
  },
  {
   "cell_type": "markdown",
   "id": "d19c4500",
   "metadata": {},
   "source": [
    "#### 3 - Existe relação entre volume negociado e a variação percentual do índice?\n",
    "Ver se grandes volumes costumam gerar maiores oscilações (pode sugerir feature)."
   ]
  },
  {
   "cell_type": "code",
   "execution_count": 1431,
   "id": "48aa3203",
   "metadata": {},
   "outputs": [
    {
     "data": {
      "image/png": "[encoded data removed]",
      "text/plain": [
       "<Figure size 800x600 with 1 Axes>"
      ]
     },
     "metadata": {},
     "output_type": "display_data"
    }
   ],
   "source": [
    "#Dispersao\n",
    "plt.figure(figsize=(8, 6))\n",
    "sns.scatterplot(x=df['Vol.'], y=df['Var%'])\n",
    "plt.title('Volume Negociado x Variação Percentual')\n",
    "plt.xlabel('Volume Negociado (R$)')\n",
    "plt.ylabel('Variação Percentual (%)')\n",
    "plt.show()"
   ]
  },
  {
   "cell_type": "markdown",
   "id": "74558503",
   "metadata": {},
   "source": [
    "##### Possiveis análises:\n",
    "\t1.\tNão há uma relação clara ou direta entre o volume negociado e a variação percentual.\n",
    "\t2.\tMesmo com volumes mais altos ou mais baixos, o IBOVESPA tende a oscilar de forma semelhante.\n",
    "\t3.\tO comportamento das variações diárias está mais concentrado entre -1% e +1%, independentemente do volume.\n",
    "\t4.\tO único ponto fora da curva (outlier) é um volume muito alto, mas com variação negativa moderada.\n",
    "Esse ponto não representa um padrão, é exceção."
   ]
  },
  {
   "cell_type": "markdown",
   "id": "35670300",
   "metadata": {},
   "source": [
    "#### 4 - O IBOVESPA subiu ou caiu mais vezes nesse período?\n",
    "Entender o equilíbrio da base entre dias de alta e queda. Ajuda a refletir sobre balanceamento do target."
   ]
  },
  {
   "cell_type": "code",
   "execution_count": 1432,
   "id": "ac804149",
   "metadata": {},
   "outputs": [
    {
     "data": {
      "image/png": "[encoded data removed]",
      "text/plain": [
       "<Figure size 640x480 with 1 Axes>"
      ]
     },
     "metadata": {},
     "output_type": "display_data"
    }
   ],
   "source": [
    "#Grafico de pizza\n",
    "df['Alta'] = df['Var%'] > 0\n",
    "df['Alta'].value_counts().plot.pie(autopct='%1.1f%%', labels=['Queda', 'Alta'], colors=['red', 'green'])\n",
    "plt.title('Proporção de Dias de Alta e Queda')\n",
    "plt.ylabel('')\n",
    "plt.show()"
   ]
  },
  {
   "cell_type": "markdown",
   "id": "1503f264",
   "metadata": {},
   "source": [
    "##### Possiveis análises:\n",
    "\t1.  O dataset está praticamente equilibrado entre dias de alta e dias de queda.\n",
    "\t2.\t50,4% dos dias foram de queda e 49,6% de alta.\n",
    "\t3.\tIsso indica que o IBOVESPA nesse período não teve uma tendência clara e consistente para um dos lados (alta ou baixa)."
   ]
  },
  {
   "cell_type": "markdown",
   "id": "97510593",
   "metadata": {},
   "source": [
    "#### 5 - Quais variáveis numéricas se relacionam mais entre si?\n",
    "Descobrir quais variáveis estão mais conectadas (e evitar duplicar informação nas features)."
   ]
  },
  {
   "cell_type": "code",
   "execution_count": 1433,
   "id": "e133ccba",
   "metadata": {},
   "outputs": [
    {
     "data": {
      "image/png": "[encoded data removed]",
      "text/plain": [
       "<Figure size 800x600 with 2 Axes>"
      ]
     },
     "metadata": {},
     "output_type": "display_data"
    }
   ],
   "source": [
    "#matriz de correlacao\n",
    "plt.figure(figsize=(8, 6))\n",
    "sns.heatmap(df[['Último', 'Abertura', 'Máxima', 'Mínima', 'Vol.', 'Var%']].corr(), annot=True, cmap='coolwarm')\n",
    "plt.title('Correlação entre Variáveis')\n",
    "plt.show()"
   ]
  },
  {
   "cell_type": "markdown",
   "id": "633a2e39",
   "metadata": {},
   "source": [
    "##### Possiveis análises:\n",
    "\t1.\tAs variáveis Último, Abertura, Máxima e Mínima têm correlação altíssima entre si (praticamente 1). Isso é esperado, pois todas medem diferentes momentos do mesmo pregão e tendem a andar juntas.\n",
    "\t2.\tO Volume negociado (Vol.) não tem correlação relevante com as demais. Reflete o scatterplot: volume não explica variação.\n",
    "\t3.\tA Var% também não tem correlação forte com as demais. Isso reforça a ideia de que as variações diárias não seguem linearmente as outras variáveis."
   ]
  },
  {
   "cell_type": "code",
   "execution_count": 1434,
   "id": "8e68f0fe",
   "metadata": {},
   "outputs": [
    {
     "name": "stdout",
     "output_type": "stream",
     "text": [
      "0.7293227091633466\n"
     ]
    }
   ],
   "source": [
    "#a média só das variações positivas\n",
    "media_var_positiva = df[df['Var%'] > 0]['Var%'].mean()\n",
    "print(media_var_positiva)"
   ]
  },
  {
   "cell_type": "code",
   "execution_count": 1435,
   "id": "dba8b51b",
   "metadata": {},
   "outputs": [
    {
     "name": "stdout",
     "output_type": "stream",
     "text": [
      "<class 'pandas.core.frame.DataFrame'>\n",
      "RangeIndex: 498 entries, 0 to 497\n",
      "Data columns (total 8 columns):\n",
      " #   Column    Non-Null Count  Dtype         \n",
      "---  ------    --------------  -----         \n",
      " 0   Data      498 non-null    datetime64[ns]\n",
      " 1   Último    498 non-null    float64       \n",
      " 2   Abertura  498 non-null    float64       \n",
      " 3   Máxima    498 non-null    float64       \n",
      " 4   Mínima    498 non-null    float64       \n",
      " 5   Vol.      498 non-null    float64       \n",
      " 6   Var%      498 non-null    float64       \n",
      " 7   Alta      498 non-null    bool          \n",
      "dtypes: bool(1), datetime64[ns](1), float64(6)\n",
      "memory usage: 27.8 KB\n"
     ]
    }
   ],
   "source": [
    "df.info()"
   ]
  },
  {
   "cell_type": "markdown",
   "id": "1f3fc2f7",
   "metadata": {},
   "source": [
    "## 3 - Criação de novas variáveis (Feature Engineering)"
   ]
  },
  {
   "cell_type": "code",
   "execution_count": 1436,
   "id": "3310a7b0",
   "metadata": {},
   "outputs": [],
   "source": [
    "#Criar a Variação diária de fechamento\n",
    "df['Variação'] = df['Último'].diff()"
   ]
  },
  {
   "cell_type": "code",
   "execution_count": 1437,
   "id": "8f769c19",
   "metadata": {},
   "outputs": [],
   "source": [
    "#Criar média movel de 5 dias (Captura tendência recente)\n",
    "df['SMA_5'] = df['Último'].rolling(window=5).mean()"
   ]
  },
  {
   "cell_type": "code",
   "execution_count": 1438,
   "id": "0b287a1b",
   "metadata": {},
   "outputs": [],
   "source": [
    "#Criar média movel de 10 dias (Captura tendência um pouco mais ampla)\n",
    "df['SMA_10'] = df['Último'].rolling(window=10).mean()"
   ]
  },
  {
   "cell_type": "code",
   "execution_count": 1439,
   "id": "530cf273",
   "metadata": {},
   "outputs": [],
   "source": [
    "#Criar média movel de 20 dias (Captura tendência um pouco mais ampla)\n",
    "df['SMA_20'] = df['Último'].rolling(window=20).mean()"
   ]
  },
  {
   "cell_type": "code",
   "execution_count": 1440,
   "id": "498b9842",
   "metadata": {},
   "outputs": [],
   "source": [
    "#Criar lag de fechamento de 1 dia (Mostra o fechamento do dia anterior)\n",
    "df['Último_Lag1'] = df['Último'].shift(1)"
   ]
  },
  {
   "cell_type": "code",
   "execution_count": 1441,
   "id": "7fdc5c66",
   "metadata": {},
   "outputs": [
    {
     "data": {
      "text/html": [
       "<div>\n",
       "<style scoped>\n",
       "    .dataframe tbody tr th:only-of-type {\n",
       "        vertical-align: middle;\n",
       "    }\n",
       "\n",
       "    .dataframe tbody tr th {\n",
       "        vertical-align: top;\n",
       "    }\n",
       "\n",
       "    .dataframe thead th {\n",
       "        text-align: right;\n",
       "    }\n",
       "</style>\n",
       "<table border=\"1\" class=\"dataframe\">\n",
       "  <thead>\n",
       "    <tr style=\"text-align: right;\">\n",
       "      <th></th>\n",
       "      <th>Data</th>\n",
       "      <th>Variação</th>\n",
       "      <th>SMA_5</th>\n",
       "      <th>SMA_10</th>\n",
       "      <th>Último_Lag1</th>\n",
       "    </tr>\n",
       "  </thead>\n",
       "  <tbody>\n",
       "    <tr>\n",
       "      <th>0</th>\n",
       "      <td>2023-06-30</td>\n",
       "      <td>NaN</td>\n",
       "      <td>NaN</td>\n",
       "      <td>NaN</td>\n",
       "      <td>NaN</td>\n",
       "    </tr>\n",
       "    <tr>\n",
       "      <th>1</th>\n",
       "      <td>2023-07-03</td>\n",
       "      <td>1.586</td>\n",
       "      <td>NaN</td>\n",
       "      <td>NaN</td>\n",
       "      <td>118.087</td>\n",
       "    </tr>\n",
       "    <tr>\n",
       "      <th>2</th>\n",
       "      <td>2023-07-04</td>\n",
       "      <td>-0.597</td>\n",
       "      <td>NaN</td>\n",
       "      <td>NaN</td>\n",
       "      <td>119.673</td>\n",
       "    </tr>\n",
       "    <tr>\n",
       "      <th>3</th>\n",
       "      <td>2023-07-05</td>\n",
       "      <td>0.473</td>\n",
       "      <td>NaN</td>\n",
       "      <td>NaN</td>\n",
       "      <td>119.076</td>\n",
       "    </tr>\n",
       "    <tr>\n",
       "      <th>4</th>\n",
       "      <td>2023-07-06</td>\n",
       "      <td>-2.123</td>\n",
       "      <td>118.7622</td>\n",
       "      <td>NaN</td>\n",
       "      <td>119.549</td>\n",
       "    </tr>\n",
       "    <tr>\n",
       "      <th>5</th>\n",
       "      <td>2023-07-07</td>\n",
       "      <td>1.472</td>\n",
       "      <td>118.9244</td>\n",
       "      <td>NaN</td>\n",
       "      <td>117.426</td>\n",
       "    </tr>\n",
       "    <tr>\n",
       "      <th>6</th>\n",
       "      <td>2023-07-10</td>\n",
       "      <td>-0.956</td>\n",
       "      <td>118.5782</td>\n",
       "      <td>NaN</td>\n",
       "      <td>118.898</td>\n",
       "    </tr>\n",
       "    <tr>\n",
       "      <th>7</th>\n",
       "      <td>2023-07-11</td>\n",
       "      <td>-0.386</td>\n",
       "      <td>118.2742</td>\n",
       "      <td>NaN</td>\n",
       "      <td>117.942</td>\n",
       "    </tr>\n",
       "    <tr>\n",
       "      <th>8</th>\n",
       "      <td>2023-07-12</td>\n",
       "      <td>0.110</td>\n",
       "      <td>117.8976</td>\n",
       "      <td>NaN</td>\n",
       "      <td>117.556</td>\n",
       "    </tr>\n",
       "    <tr>\n",
       "      <th>9</th>\n",
       "      <td>2023-07-13</td>\n",
       "      <td>1.598</td>\n",
       "      <td>118.2652</td>\n",
       "      <td>118.5137</td>\n",
       "      <td>117.666</td>\n",
       "    </tr>\n",
       "  </tbody>\n",
       "</table>\n",
       "</div>"
      ],
      "text/plain": [
       "        Data  Variação     SMA_5    SMA_10  Último_Lag1\n",
       "0 2023-06-30       NaN       NaN       NaN          NaN\n",
       "1 2023-07-03     1.586       NaN       NaN      118.087\n",
       "2 2023-07-04    -0.597       NaN       NaN      119.673\n",
       "3 2023-07-05     0.473       NaN       NaN      119.076\n",
       "4 2023-07-06    -2.123  118.7622       NaN      119.549\n",
       "5 2023-07-07     1.472  118.9244       NaN      117.426\n",
       "6 2023-07-10    -0.956  118.5782       NaN      118.898\n",
       "7 2023-07-11    -0.386  118.2742       NaN      117.942\n",
       "8 2023-07-12     0.110  117.8976       NaN      117.556\n",
       "9 2023-07-13     1.598  118.2652  118.5137      117.666"
      ]
     },
     "execution_count": 1441,
     "metadata": {},
     "output_type": "execute_result"
    }
   ],
   "source": [
    "#ver dados\n",
    "df[['Data', 'Variação', 'SMA_5', 'SMA_10', 'Último_Lag1']].head(10)"
   ]
  },
  {
   "cell_type": "code",
   "execution_count": 1442,
   "id": "e604011a",
   "metadata": {},
   "outputs": [],
   "source": [
    "#remover NaN\n",
    "df = df.dropna()"
   ]
  },
  {
   "cell_type": "code",
   "execution_count": 1443,
   "id": "6717aebc",
   "metadata": {},
   "outputs": [
    {
     "data": {
      "text/html": [
       "<div>\n",
       "<style scoped>\n",
       "    .dataframe tbody tr th:only-of-type {\n",
       "        vertical-align: middle;\n",
       "    }\n",
       "\n",
       "    .dataframe tbody tr th {\n",
       "        vertical-align: top;\n",
       "    }\n",
       "\n",
       "    .dataframe thead th {\n",
       "        text-align: right;\n",
       "    }\n",
       "</style>\n",
       "<table border=\"1\" class=\"dataframe\">\n",
       "  <thead>\n",
       "    <tr style=\"text-align: right;\">\n",
       "      <th></th>\n",
       "      <th>Data</th>\n",
       "      <th>Último</th>\n",
       "      <th>Abertura</th>\n",
       "      <th>Máxima</th>\n",
       "      <th>Mínima</th>\n",
       "      <th>Vol.</th>\n",
       "      <th>Var%</th>\n",
       "      <th>Alta</th>\n",
       "      <th>Variação</th>\n",
       "      <th>SMA_5</th>\n",
       "      <th>SMA_10</th>\n",
       "      <th>SMA_20</th>\n",
       "      <th>Último_Lag1</th>\n",
       "    </tr>\n",
       "  </thead>\n",
       "  <tbody>\n",
       "  </tbody>\n",
       "</table>\n",
       "</div>"
      ],
      "text/plain": [
       "Empty DataFrame\n",
       "Columns: [Data, Último, Abertura, Máxima, Mínima, Vol., Var%, Alta, Variação, SMA_5, SMA_10, SMA_20, Último_Lag1]\n",
       "Index: []"
      ]
     },
     "execution_count": 1443,
     "metadata": {},
     "output_type": "execute_result"
    }
   ],
   "source": [
    "#ver se ainda tem NaN\n",
    "df[df[['Variação', 'SMA_5', 'SMA_10', 'Último_Lag1']].isnull().any(axis=1)]"
   ]
  },
  {
   "cell_type": "code",
   "execution_count": 1444,
   "id": "431a7e38",
   "metadata": {},
   "outputs": [
    {
     "data": {
      "text/plain": [
       "<Figure size 1200x600 with 0 Axes>"
      ]
     },
     "metadata": {},
     "output_type": "display_data"
    },
    {
     "data": {
      "image/png": "[encoded data removed]",
      "text/plain": [
       "<Figure size 640x480 with 1 Axes>"
      ]
     },
     "metadata": {},
     "output_type": "display_data"
    }
   ],
   "source": [
    "plt.figure(figsize=(12,6))\n",
    "df[['Último', 'SMA_5', 'SMA_20']].plot(title='Preço de Fechamento e Médias Móveis')\n",
    "plt.grid(True)\n",
    "plt.show()"
   ]
  },
  {
   "cell_type": "markdown",
   "id": "dafe8608",
   "metadata": {},
   "source": [
    "## 4 - Definir variável-alvo (Target)\n",
    "- Primeira tentativa: (obtive 40% e 47% de acurácia): Criacao da variável Target comparando o fechamento do dia seguinte com o do dia atual. Se o fechamento do próximo pregão foi maior, o dia atual recebe 1 (Alta). Caso contrário, recebe 0 (Queda). Assim, definimos claramente o comportamento que queremos que o modelo aprenda a prever.\n",
    "- Segunda tentativa: Para este projeto, defini o target com base no cruzamento de médias móveis, o target recebe valor **1 (Alta)** quando a média móvel de 5 dias (SMA_5) ultrapassa a média móvel de 20 dias (SMA_20), indicando possível sinal de compra. Caso contrário, recebe **0 (Queda)**, indicando possível sinal de venda ou retração."
   ]
  },
  {
   "cell_type": "code",
   "execution_count": 1445,
   "id": "28c5af28",
   "metadata": {},
   "outputs": [
    {
     "name": "stdout",
     "output_type": "stream",
     "text": [
      "Distribuição do Target:\n",
      "Target\n",
      "0    0.524008\n",
      "1    0.475992\n",
      "Name: proportion, dtype: float64\n"
     ]
    }
   ],
   "source": [
    "#Cruzamento de Médias Móveis\n",
    "df['Target'] = (df['SMA_5'] > df['SMA_20']).astype(int)\n",
    "df.dropna(inplace=True)\n",
    "print(\"Distribuição do Target:\")\n",
    "print(df['Target'].value_counts(normalize=True))"
   ]
  },
  {
   "cell_type": "markdown",
   "id": "0d440b45",
   "metadata": {},
   "source": [
    "## 6 - Regressao: Escalonamento dos dados\n",
    "Exemplo com StandardScaler e MinMaxScaler."
   ]
  },
  {
   "cell_type": "code",
   "execution_count": 1446,
   "id": "22e08e86",
   "metadata": {},
   "outputs": [],
   "source": [
    "from sklearn.preprocessing import StandardScaler\n",
    "\n",
    "# Features que você pretende usar no modelo\n",
    "features = ['Último', 'SMA_5', 'SMA_10', 'SMA_20', 'Último_Lag1', 'Variação']\n",
    "\n",
    "# Inicializar scaler\n",
    "scaler = StandardScaler()\n",
    "\n",
    "# Aplicar o escalonamento nas features\n",
    "df_scaled = df.copy()\n",
    "df_scaled[features] = scaler.fit_transform(df_scaled[features])"
   ]
  },
  {
   "cell_type": "code",
   "execution_count": 1447,
   "id": "d3328a03",
   "metadata": {},
   "outputs": [
    {
     "data": {
      "text/html": [
       "<div>\n",
       "<style scoped>\n",
       "    .dataframe tbody tr th:only-of-type {\n",
       "        vertical-align: middle;\n",
       "    }\n",
       "\n",
       "    .dataframe tbody tr th {\n",
       "        vertical-align: top;\n",
       "    }\n",
       "\n",
       "    .dataframe thead th {\n",
       "        text-align: right;\n",
       "    }\n",
       "</style>\n",
       "<table border=\"1\" class=\"dataframe\">\n",
       "  <thead>\n",
       "    <tr style=\"text-align: right;\">\n",
       "      <th></th>\n",
       "      <th>Data</th>\n",
       "      <th>Último</th>\n",
       "      <th>Abertura</th>\n",
       "      <th>Máxima</th>\n",
       "      <th>Mínima</th>\n",
       "      <th>Vol.</th>\n",
       "      <th>Var%</th>\n",
       "      <th>Alta</th>\n",
       "      <th>Variação</th>\n",
       "      <th>SMA_5</th>\n",
       "      <th>SMA_10</th>\n",
       "      <th>SMA_20</th>\n",
       "      <th>Último_Lag1</th>\n",
       "      <th>Target</th>\n",
       "    </tr>\n",
       "  </thead>\n",
       "  <tbody>\n",
       "    <tr>\n",
       "      <th>19</th>\n",
       "      <td>2023-07-27</td>\n",
       "      <td>119.990</td>\n",
       "      <td>122.560</td>\n",
       "      <td>122.599</td>\n",
       "      <td>119.825</td>\n",
       "      <td>1.068000e+16</td>\n",
       "      <td>-2.10</td>\n",
       "      <td>False</td>\n",
       "      <td>-2.570</td>\n",
       "      <td>121.2234</td>\n",
       "      <td>119.5523</td>\n",
       "      <td>119.0330</td>\n",
       "      <td>122.560</td>\n",
       "      <td>1</td>\n",
       "    </tr>\n",
       "    <tr>\n",
       "      <th>20</th>\n",
       "      <td>2023-07-28</td>\n",
       "      <td>120.187</td>\n",
       "      <td>120.002</td>\n",
       "      <td>120.660</td>\n",
       "      <td>119.706</td>\n",
       "      <td>8.460000e+15</td>\n",
       "      <td>0.16</td>\n",
       "      <td>True</td>\n",
       "      <td>0.197</td>\n",
       "      <td>121.2174</td>\n",
       "      <td>119.7999</td>\n",
       "      <td>119.1380</td>\n",
       "      <td>119.990</td>\n",
       "      <td>1</td>\n",
       "    </tr>\n",
       "    <tr>\n",
       "      <th>21</th>\n",
       "      <td>2023-07-31</td>\n",
       "      <td>121.943</td>\n",
       "      <td>120.188</td>\n",
       "      <td>122.149</td>\n",
       "      <td>120.188</td>\n",
       "      <td>1.012000e+16</td>\n",
       "      <td>1.46</td>\n",
       "      <td>True</td>\n",
       "      <td>1.756</td>\n",
       "      <td>121.3376</td>\n",
       "      <td>120.1723</td>\n",
       "      <td>119.2515</td>\n",
       "      <td>120.187</td>\n",
       "      <td>1</td>\n",
       "    </tr>\n",
       "    <tr>\n",
       "      <th>22</th>\n",
       "      <td>2023-08-01</td>\n",
       "      <td>121.248</td>\n",
       "      <td>121.945</td>\n",
       "      <td>121.945</td>\n",
       "      <td>120.154</td>\n",
       "      <td>1.030000e+16</td>\n",
       "      <td>-0.57</td>\n",
       "      <td>False</td>\n",
       "      <td>-0.695</td>\n",
       "      <td>121.1856</td>\n",
       "      <td>120.5130</td>\n",
       "      <td>119.3601</td>\n",
       "      <td>121.943</td>\n",
       "      <td>1</td>\n",
       "    </tr>\n",
       "    <tr>\n",
       "      <th>23</th>\n",
       "      <td>2023-08-02</td>\n",
       "      <td>120.859</td>\n",
       "      <td>121.249</td>\n",
       "      <td>121.252</td>\n",
       "      <td>119.798</td>\n",
       "      <td>1.057000e+16</td>\n",
       "      <td>-0.32</td>\n",
       "      <td>False</td>\n",
       "      <td>-0.389</td>\n",
       "      <td>120.8454</td>\n",
       "      <td>120.8437</td>\n",
       "      <td>119.4256</td>\n",
       "      <td>121.248</td>\n",
       "      <td>1</td>\n",
       "    </tr>\n",
       "  </tbody>\n",
       "</table>\n",
       "</div>"
      ],
      "text/plain": [
       "         Data   Último  Abertura   Máxima   Mínima          Vol.  Var%   Alta  \\\n",
       "19 2023-07-27  119.990   122.560  122.599  119.825  1.068000e+16 -2.10  False   \n",
       "20 2023-07-28  120.187   120.002  120.660  119.706  8.460000e+15  0.16   True   \n",
       "21 2023-07-31  121.943   120.188  122.149  120.188  1.012000e+16  1.46   True   \n",
       "22 2023-08-01  121.248   121.945  121.945  120.154  1.030000e+16 -0.57  False   \n",
       "23 2023-08-02  120.859   121.249  121.252  119.798  1.057000e+16 -0.32  False   \n",
       "\n",
       "    Variação     SMA_5    SMA_10    SMA_20  Último_Lag1  Target  \n",
       "19    -2.570  121.2234  119.5523  119.0330      122.560       1  \n",
       "20     0.197  121.2174  119.7999  119.1380      119.990       1  \n",
       "21     1.756  121.3376  120.1723  119.2515      120.187       1  \n",
       "22    -0.695  121.1856  120.5130  119.3601      121.943       1  \n",
       "23    -0.389  120.8454  120.8437  119.4256      121.248       1  "
      ]
     },
     "execution_count": 1447,
     "metadata": {},
     "output_type": "execute_result"
    }
   ],
   "source": [
    "df.head()"
   ]
  },
  {
   "cell_type": "code",
   "execution_count": 1448,
   "id": "6ee0ecf0",
   "metadata": {},
   "outputs": [],
   "source": [
    "# Selecionar as colunas de entrada e o target\n",
    "X = df_scaled[['Último', 'SMA_5', 'SMA_10', 'SMA_20', 'Último_Lag1', 'Variação']]\n",
    "y = df_scaled['Target']"
   ]
  },
  {
   "cell_type": "code",
   "execution_count": 1449,
   "id": "fbd885c7",
   "metadata": {},
   "outputs": [],
   "source": [
    "# Separar treino e teste com base em data (time series)\n",
    "X_train = X.iloc[:-30]\n",
    "X_test = X.iloc[-30:]\n",
    "y_train = y.iloc[:-30]\n",
    "y_test = y.iloc[-30:]"
   ]
  },
  {
   "cell_type": "code",
   "execution_count": 1450,
   "id": "e1cb8a2e",
   "metadata": {},
   "outputs": [],
   "source": [
    "from sklearn.linear_model import LogisticRegression\n",
    "\n",
    "# Instanciar e treinar o modelo\n",
    "model_lr = LogisticRegression()\n",
    "model_lr.fit(X_train, y_train)\n",
    "\n",
    "# Previsão\n",
    "y_pred_lr = model_lr.predict(X_test)"
   ]
  },
  {
   "cell_type": "code",
   "execution_count": 1451,
   "id": "bf09f94b",
   "metadata": {},
   "outputs": [
    {
     "name": "stdout",
     "output_type": "stream",
     "text": [
      "Acurácia: 0.8666666666666667\n",
      "\n",
      "Matriz de Confusão:\n",
      "[[14  0]\n",
      " [ 4 12]]\n",
      "\n",
      "Relatório de Classificação:\n",
      "              precision    recall  f1-score   support\n",
      "\n",
      "           0       0.78      1.00      0.88        14\n",
      "           1       1.00      0.75      0.86        16\n",
      "\n",
      "    accuracy                           0.87        30\n",
      "   macro avg       0.89      0.88      0.87        30\n",
      "weighted avg       0.90      0.87      0.87        30\n",
      "\n"
     ]
    }
   ],
   "source": [
    "from sklearn.metrics import accuracy_score, classification_report, confusion_matrix\n",
    "\n",
    "print(\"Acurácia:\", accuracy_score(y_test, y_pred_lr))\n",
    "print(\"\\nMatriz de Confusão:\")\n",
    "print(confusion_matrix(y_test, y_pred_lr))\n",
    "print(\"\\nRelatório de Classificação:\")\n",
    "print(classification_report(y_test, y_pred_lr))"
   ]
  },
  {
   "cell_type": "code",
   "execution_count": 1452,
   "id": "9ebc4f12",
   "metadata": {},
   "outputs": [
    {
     "name": "stdout",
     "output_type": "stream",
     "text": [
      "Última previsão da Regressão Logística: 0\n"
     ]
    }
   ],
   "source": [
    "# Última previsão da regressão\n",
    "target_lr_binario = y_pred_lr[-1]\n",
    "print(f\"Última previsão da Regressão Logística: {target_lr_binario}\")"
   ]
  },
  {
   "cell_type": "markdown",
   "id": "58214b80",
   "metadata": {},
   "source": [
    "## Random Forest"
   ]
  },
  {
   "cell_type": "code",
   "execution_count": 1453,
   "id": "31e38491",
   "metadata": {},
   "outputs": [],
   "source": [
    "from sklearn.ensemble import RandomForestClassifier\n",
    "\n",
    "# Instanciar o modelo\n",
    "modelo_rf = RandomForestClassifier(n_estimators=100, random_state=42)\n",
    "\n",
    "# Treinar com os dados de treino\n",
    "modelo_rf.fit(X_train, y_train)\n",
    "\n",
    "# Fazer previsões\n",
    "y_pred_rf = modelo_rf.predict(X_test)"
   ]
  },
  {
   "cell_type": "code",
   "execution_count": 1454,
   "id": "af39266d",
   "metadata": {},
   "outputs": [],
   "source": [
    "# Últimos 30 dias do dataset\n",
    "ultimos_30_rf = X[-30:]\n",
    "target_rf_bin_30 = modelo_rf.predict(ultimos_30_rf)"
   ]
  },
  {
   "cell_type": "code",
   "execution_count": 1455,
   "id": "96a379a8",
   "metadata": {},
   "outputs": [
    {
     "name": "stdout",
     "output_type": "stream",
     "text": [
      "Avaliação do Random Forest:\n",
      "Acurácia: 0.5333333333333333\n",
      "Recall: 1.0\n",
      "F1 Score: 0.6956521739130435\n",
      "\n",
      "Relatório de Classificação:\n",
      "              precision    recall  f1-score   support\n",
      "\n",
      "           0       0.00      0.00      0.00        14\n",
      "           1       0.53      1.00      0.70        16\n",
      "\n",
      "    accuracy                           0.53        30\n",
      "   macro avg       0.27      0.50      0.35        30\n",
      "weighted avg       0.28      0.53      0.37        30\n",
      "\n"
     ]
    },
    {
     "name": "stderr",
     "output_type": "stream",
     "text": [
      "c:\\Users\\icors\\AppData\\Local\\Programs\\Python\\Python311\\Lib\\site-packages\\sklearn\\metrics\\_classification.py:1517: UndefinedMetricWarning: Precision is ill-defined and being set to 0.0 in labels with no predicted samples. Use `zero_division` parameter to control this behavior.\n",
      "  _warn_prf(average, modifier, f\"{metric.capitalize()} is\", len(result))\n",
      "c:\\Users\\icors\\AppData\\Local\\Programs\\Python\\Python311\\Lib\\site-packages\\sklearn\\metrics\\_classification.py:1517: UndefinedMetricWarning: Precision is ill-defined and being set to 0.0 in labels with no predicted samples. Use `zero_division` parameter to control this behavior.\n",
      "  _warn_prf(average, modifier, f\"{metric.capitalize()} is\", len(result))\n",
      "c:\\Users\\icors\\AppData\\Local\\Programs\\Python\\Python311\\Lib\\site-packages\\sklearn\\metrics\\_classification.py:1517: UndefinedMetricWarning: Precision is ill-defined and being set to 0.0 in labels with no predicted samples. Use `zero_division` parameter to control this behavior.\n",
      "  _warn_prf(average, modifier, f\"{metric.capitalize()} is\", len(result))\n"
     ]
    }
   ],
   "source": [
    "from sklearn.metrics import accuracy_score, recall_score, f1_score, classification_report\n",
    "\n",
    "print(\"Avaliação do Random Forest:\")\n",
    "print(\"Acurácia:\", accuracy_score(y_test, y_pred_rf))\n",
    "print(\"Recall:\", recall_score(y_test, y_pred_rf))\n",
    "print(\"F1 Score:\", f1_score(y_test, y_pred_rf))\n",
    "print(\"\\nRelatório de Classificação:\")\n",
    "print(classification_report(y_test, y_pred_rf))"
   ]
  },
  {
   "cell_type": "markdown",
   "id": "587f05ed",
   "metadata": {},
   "source": [
    "## 7 - Serie temporal: ARIMA"
   ]
  },
  {
   "cell_type": "code",
   "execution_count": 1456,
   "id": "bc41467c",
   "metadata": {},
   "outputs": [
    {
     "data": {
      "text/html": [
       "<div>\n",
       "<style scoped>\n",
       "    .dataframe tbody tr th:only-of-type {\n",
       "        vertical-align: middle;\n",
       "    }\n",
       "\n",
       "    .dataframe tbody tr th {\n",
       "        vertical-align: top;\n",
       "    }\n",
       "\n",
       "    .dataframe thead th {\n",
       "        text-align: right;\n",
       "    }\n",
       "</style>\n",
       "<table border=\"1\" class=\"dataframe\">\n",
       "  <thead>\n",
       "    <tr style=\"text-align: right;\">\n",
       "      <th></th>\n",
       "      <th>Último</th>\n",
       "    </tr>\n",
       "    <tr>\n",
       "      <th>Data</th>\n",
       "      <th></th>\n",
       "    </tr>\n",
       "  </thead>\n",
       "  <tbody>\n",
       "    <tr>\n",
       "      <th>2023-07-27</th>\n",
       "      <td>119.990</td>\n",
       "    </tr>\n",
       "    <tr>\n",
       "      <th>2023-07-28</th>\n",
       "      <td>120.187</td>\n",
       "    </tr>\n",
       "    <tr>\n",
       "      <th>2023-07-31</th>\n",
       "      <td>121.943</td>\n",
       "    </tr>\n",
       "    <tr>\n",
       "      <th>2023-08-01</th>\n",
       "      <td>121.248</td>\n",
       "    </tr>\n",
       "    <tr>\n",
       "      <th>2023-08-02</th>\n",
       "      <td>120.859</td>\n",
       "    </tr>\n",
       "    <tr>\n",
       "      <th>...</th>\n",
       "      <td>...</td>\n",
       "    </tr>\n",
       "    <tr>\n",
       "      <th>2025-06-24</th>\n",
       "      <td>137.165</td>\n",
       "    </tr>\n",
       "    <tr>\n",
       "      <th>2025-06-25</th>\n",
       "      <td>135.767</td>\n",
       "    </tr>\n",
       "    <tr>\n",
       "      <th>2025-06-26</th>\n",
       "      <td>137.114</td>\n",
       "    </tr>\n",
       "    <tr>\n",
       "      <th>2025-06-27</th>\n",
       "      <td>136.866</td>\n",
       "    </tr>\n",
       "    <tr>\n",
       "      <th>2025-06-30</th>\n",
       "      <td>138.855</td>\n",
       "    </tr>\n",
       "  </tbody>\n",
       "</table>\n",
       "<p>479 rows × 1 columns</p>\n",
       "</div>"
      ],
      "text/plain": [
       "             Último\n",
       "Data               \n",
       "2023-07-27  119.990\n",
       "2023-07-28  120.187\n",
       "2023-07-31  121.943\n",
       "2023-08-01  121.248\n",
       "2023-08-02  120.859\n",
       "...             ...\n",
       "2025-06-24  137.165\n",
       "2025-06-25  135.767\n",
       "2025-06-26  137.114\n",
       "2025-06-27  136.866\n",
       "2025-06-30  138.855\n",
       "\n",
       "[479 rows x 1 columns]"
      ]
     },
     "execution_count": 1456,
     "metadata": {},
     "output_type": "execute_result"
    }
   ],
   "source": [
    "#Preparar série temporal com índice de data\n",
    "df_series = df[['Data', 'Último']].copy()\n",
    "df_series.set_index('Data', inplace=True)\n",
    "\n",
    "df_series"
   ]
  },
  {
   "cell_type": "code",
   "execution_count": 1457,
   "id": "45c84c8d",
   "metadata": {},
   "outputs": [
    {
     "name": "stdout",
     "output_type": "stream",
     "text": [
      "ADF Statistic: -1.6876838430158452\n",
      "p-value: 0.43746904199005604\n"
     ]
    }
   ],
   "source": [
    "#Teste de estacionariedade com ADF\n",
    "from statsmodels.tsa.stattools import adfuller\n",
    "\n",
    "result = adfuller(df_series['Último'])\n",
    "print(f\"ADF Statistic: {result[0]}\")\n",
    "print(f\"p-value: {result[1]}\")"
   ]
  },
  {
   "cell_type": "code",
   "execution_count": 1458,
   "id": "f2ece3c4",
   "metadata": {},
   "outputs": [
    {
     "name": "stdout",
     "output_type": "stream",
     "text": [
      "ADF Statistic após diferenciação: -22.098938416073988\n",
      "p-value após diferenciação: 0.0\n"
     ]
    }
   ],
   "source": [
    "# Aplicar diferenciação de primeira ordem\n",
    "df_series['diff'] = df_series['Último'].diff()\n",
    "df_series.dropna(inplace=True)\n",
    "\n",
    "# Testar novamente com a série diferenciada\n",
    "result = adfuller(df_series['diff'])\n",
    "print(f\"ADF Statistic após diferenciação: {result[0]}\")\n",
    "print(f\"p-value após diferenciação: {result[1]}\")"
   ]
  },
  {
   "cell_type": "markdown",
   "id": "1edefa92",
   "metadata": {},
   "source": [
    "# AutoARIMA não estacionário "
   ]
  },
  {
   "cell_type": "markdown",
   "id": "864314d6",
   "metadata": {},
   "source": [
    "Copiando o df original e pegando apenas as colunas que iremos utilizar."
   ]
  },
  {
   "cell_type": "code",
   "execution_count": 1459,
   "id": "38127f00",
   "metadata": {},
   "outputs": [
    {
     "data": {
      "text/html": [
       "<div>\n",
       "<style scoped>\n",
       "    .dataframe tbody tr th:only-of-type {\n",
       "        vertical-align: middle;\n",
       "    }\n",
       "\n",
       "    .dataframe tbody tr th {\n",
       "        vertical-align: top;\n",
       "    }\n",
       "\n",
       "    .dataframe thead th {\n",
       "        text-align: right;\n",
       "    }\n",
       "</style>\n",
       "<table border=\"1\" class=\"dataframe\">\n",
       "  <thead>\n",
       "    <tr style=\"text-align: right;\">\n",
       "      <th></th>\n",
       "      <th>Data</th>\n",
       "      <th>Último</th>\n",
       "    </tr>\n",
       "  </thead>\n",
       "  <tbody>\n",
       "    <tr>\n",
       "      <th>19</th>\n",
       "      <td>2023-07-27</td>\n",
       "      <td>119.990</td>\n",
       "    </tr>\n",
       "    <tr>\n",
       "      <th>20</th>\n",
       "      <td>2023-07-28</td>\n",
       "      <td>120.187</td>\n",
       "    </tr>\n",
       "    <tr>\n",
       "      <th>21</th>\n",
       "      <td>2023-07-31</td>\n",
       "      <td>121.943</td>\n",
       "    </tr>\n",
       "    <tr>\n",
       "      <th>22</th>\n",
       "      <td>2023-08-01</td>\n",
       "      <td>121.248</td>\n",
       "    </tr>\n",
       "    <tr>\n",
       "      <th>23</th>\n",
       "      <td>2023-08-02</td>\n",
       "      <td>120.859</td>\n",
       "    </tr>\n",
       "    <tr>\n",
       "      <th>...</th>\n",
       "      <td>...</td>\n",
       "      <td>...</td>\n",
       "    </tr>\n",
       "    <tr>\n",
       "      <th>493</th>\n",
       "      <td>2025-06-24</td>\n",
       "      <td>137.165</td>\n",
       "    </tr>\n",
       "    <tr>\n",
       "      <th>494</th>\n",
       "      <td>2025-06-25</td>\n",
       "      <td>135.767</td>\n",
       "    </tr>\n",
       "    <tr>\n",
       "      <th>495</th>\n",
       "      <td>2025-06-26</td>\n",
       "      <td>137.114</td>\n",
       "    </tr>\n",
       "    <tr>\n",
       "      <th>496</th>\n",
       "      <td>2025-06-27</td>\n",
       "      <td>136.866</td>\n",
       "    </tr>\n",
       "    <tr>\n",
       "      <th>497</th>\n",
       "      <td>2025-06-30</td>\n",
       "      <td>138.855</td>\n",
       "    </tr>\n",
       "  </tbody>\n",
       "</table>\n",
       "<p>479 rows × 2 columns</p>\n",
       "</div>"
      ],
      "text/plain": [
       "          Data   Último\n",
       "19  2023-07-27  119.990\n",
       "20  2023-07-28  120.187\n",
       "21  2023-07-31  121.943\n",
       "22  2023-08-01  121.248\n",
       "23  2023-08-02  120.859\n",
       "..         ...      ...\n",
       "493 2025-06-24  137.165\n",
       "494 2025-06-25  135.767\n",
       "495 2025-06-26  137.114\n",
       "496 2025-06-27  136.866\n",
       "497 2025-06-30  138.855\n",
       "\n",
       "[479 rows x 2 columns]"
      ]
     },
     "execution_count": 1459,
     "metadata": {},
     "output_type": "execute_result"
    }
   ],
   "source": [
    "df_auto_arima = df[['Data', 'Último']].copy()\n",
    "df_auto_arima"
   ]
  },
  {
   "cell_type": "markdown",
   "id": "ade854fa",
   "metadata": {},
   "source": [
    "Criamos a coluna de classificação que nosso modelo irá utilizar."
   ]
  },
  {
   "cell_type": "code",
   "execution_count": 1460,
   "id": "3a96e29a",
   "metadata": {},
   "outputs": [
    {
     "data": {
      "text/html": [
       "<div>\n",
       "<style scoped>\n",
       "    .dataframe tbody tr th:only-of-type {\n",
       "        vertical-align: middle;\n",
       "    }\n",
       "\n",
       "    .dataframe tbody tr th {\n",
       "        vertical-align: top;\n",
       "    }\n",
       "\n",
       "    .dataframe thead th {\n",
       "        text-align: right;\n",
       "    }\n",
       "</style>\n",
       "<table border=\"1\" class=\"dataframe\">\n",
       "  <thead>\n",
       "    <tr style=\"text-align: right;\">\n",
       "      <th></th>\n",
       "      <th>Data</th>\n",
       "      <th>Último</th>\n",
       "      <th>serie_id</th>\n",
       "    </tr>\n",
       "  </thead>\n",
       "  <tbody>\n",
       "    <tr>\n",
       "      <th>19</th>\n",
       "      <td>2023-07-27</td>\n",
       "      <td>119.990</td>\n",
       "      <td>ibovespa</td>\n",
       "    </tr>\n",
       "    <tr>\n",
       "      <th>20</th>\n",
       "      <td>2023-07-28</td>\n",
       "      <td>120.187</td>\n",
       "      <td>ibovespa</td>\n",
       "    </tr>\n",
       "    <tr>\n",
       "      <th>21</th>\n",
       "      <td>2023-07-31</td>\n",
       "      <td>121.943</td>\n",
       "      <td>ibovespa</td>\n",
       "    </tr>\n",
       "    <tr>\n",
       "      <th>22</th>\n",
       "      <td>2023-08-01</td>\n",
       "      <td>121.248</td>\n",
       "      <td>ibovespa</td>\n",
       "    </tr>\n",
       "    <tr>\n",
       "      <th>23</th>\n",
       "      <td>2023-08-02</td>\n",
       "      <td>120.859</td>\n",
       "      <td>ibovespa</td>\n",
       "    </tr>\n",
       "  </tbody>\n",
       "</table>\n",
       "</div>"
      ],
      "text/plain": [
       "         Data   Último  serie_id\n",
       "19 2023-07-27  119.990  ibovespa\n",
       "20 2023-07-28  120.187  ibovespa\n",
       "21 2023-07-31  121.943  ibovespa\n",
       "22 2023-08-01  121.248  ibovespa\n",
       "23 2023-08-02  120.859  ibovespa"
      ]
     },
     "execution_count": 1460,
     "metadata": {},
     "output_type": "execute_result"
    }
   ],
   "source": [
    "df_auto_arima['serie_id'] = 'ibovespa'\n",
    "\n",
    "df_auto_arima.head()"
   ]
  },
  {
   "cell_type": "markdown",
   "id": "31bf9d0d",
   "metadata": {},
   "source": [
    "Renomeando as colunas para entrar no padrão do modelo."
   ]
  },
  {
   "cell_type": "code",
   "execution_count": 1461,
   "id": "443b028d",
   "metadata": {},
   "outputs": [],
   "source": [
    "df_auto_arima = df_auto_arima.rename(columns={'Data': 'ds', 'Último': 'y', 'serie_id': 'unique_id'})"
   ]
  },
  {
   "cell_type": "code",
   "execution_count": 1462,
   "id": "87471fac",
   "metadata": {},
   "outputs": [
    {
     "data": {
      "text/html": [
       "<div>\n",
       "<style scoped>\n",
       "    .dataframe tbody tr th:only-of-type {\n",
       "        vertical-align: middle;\n",
       "    }\n",
       "\n",
       "    .dataframe tbody tr th {\n",
       "        vertical-align: top;\n",
       "    }\n",
       "\n",
       "    .dataframe thead th {\n",
       "        text-align: right;\n",
       "    }\n",
       "</style>\n",
       "<table border=\"1\" class=\"dataframe\">\n",
       "  <thead>\n",
       "    <tr style=\"text-align: right;\">\n",
       "      <th></th>\n",
       "      <th>ds</th>\n",
       "      <th>y</th>\n",
       "      <th>unique_id</th>\n",
       "    </tr>\n",
       "  </thead>\n",
       "  <tbody>\n",
       "    <tr>\n",
       "      <th>19</th>\n",
       "      <td>2023-07-27</td>\n",
       "      <td>119.990</td>\n",
       "      <td>ibovespa</td>\n",
       "    </tr>\n",
       "    <tr>\n",
       "      <th>20</th>\n",
       "      <td>2023-07-28</td>\n",
       "      <td>120.187</td>\n",
       "      <td>ibovespa</td>\n",
       "    </tr>\n",
       "    <tr>\n",
       "      <th>21</th>\n",
       "      <td>2023-07-31</td>\n",
       "      <td>121.943</td>\n",
       "      <td>ibovespa</td>\n",
       "    </tr>\n",
       "    <tr>\n",
       "      <th>22</th>\n",
       "      <td>2023-08-01</td>\n",
       "      <td>121.248</td>\n",
       "      <td>ibovespa</td>\n",
       "    </tr>\n",
       "    <tr>\n",
       "      <th>23</th>\n",
       "      <td>2023-08-02</td>\n",
       "      <td>120.859</td>\n",
       "      <td>ibovespa</td>\n",
       "    </tr>\n",
       "  </tbody>\n",
       "</table>\n",
       "</div>"
      ],
      "text/plain": [
       "           ds        y unique_id\n",
       "19 2023-07-27  119.990  ibovespa\n",
       "20 2023-07-28  120.187  ibovespa\n",
       "21 2023-07-31  121.943  ibovespa\n",
       "22 2023-08-01  121.248  ibovespa\n",
       "23 2023-08-02  120.859  ibovespa"
      ]
     },
     "execution_count": 1462,
     "metadata": {},
     "output_type": "execute_result"
    }
   ],
   "source": [
    "df_auto_arima.head()"
   ]
  },
  {
   "cell_type": "markdown",
   "id": "e29bc57e",
   "metadata": {},
   "source": [
    "Intânciando o modelo."
   ]
  },
  {
   "cell_type": "code",
   "execution_count": 1463,
   "id": "d53626b5",
   "metadata": {},
   "outputs": [],
   "source": [
    "model_auto_arima = StatsForecast(models=[AutoARIMA(season_length=7)], freq='D', n_jobs=1)"
   ]
  },
  {
   "cell_type": "markdown",
   "id": "2703fb07",
   "metadata": {},
   "source": [
    "Pegando as datas para treino e validação."
   ]
  },
  {
   "cell_type": "code",
   "execution_count": 1464,
   "id": "92e49a71",
   "metadata": {},
   "outputs": [
    {
     "data": {
      "text/plain": [
       "30"
      ]
     },
     "execution_count": 1464,
     "metadata": {},
     "output_type": "execute_result"
    }
   ],
   "source": [
    "train_auto_arima = df_auto_arima.loc[df_auto_arima['ds'] < '2025-05-19']\n",
    "valid_auto_arima = df_auto_arima[(df_auto_arima['ds'] >= '2025-05-09') & (df_auto_arima['ds'] <= '2025-06-20')]\n",
    "\n",
    "h_auto_arima = valid_auto_arima['ds'].nunique()\n",
    "h_auto_arima"
   ]
  },
  {
   "cell_type": "markdown",
   "id": "7d662e5b",
   "metadata": {},
   "source": [
    "Treinando o modelo."
   ]
  },
  {
   "cell_type": "code",
   "execution_count": 1465,
   "id": "f8fb3769",
   "metadata": {},
   "outputs": [
    {
     "data": {
      "text/plain": [
       "StatsForecast(models=[AutoARIMA])"
      ]
     },
     "execution_count": 1465,
     "metadata": {},
     "output_type": "execute_result"
    }
   ],
   "source": [
    "model_auto_arima.fit(train_auto_arima)"
   ]
  },
  {
   "cell_type": "markdown",
   "id": "3810e71b",
   "metadata": {},
   "source": [
    "Pegando a previsão do nosso modelo e fazendo um merge no nosso df."
   ]
  },
  {
   "cell_type": "code",
   "execution_count": 1466,
   "id": "049f4fa1",
   "metadata": {},
   "outputs": [],
   "source": [
    "forecast_dfa = model_auto_arima.predict(h=h_auto_arima, level=[90])\n",
    "forecast_dfa = forecast_dfa.reset_index().merge(valid_auto_arima, on=['ds', 'unique_id'], how='left')\n"
   ]
  },
  {
   "cell_type": "markdown",
   "id": "1dcdb133",
   "metadata": {},
   "source": [
    "Removemos os valores ausentes"
   ]
  },
  {
   "cell_type": "code",
   "execution_count": 1467,
   "id": "6d983461",
   "metadata": {},
   "outputs": [],
   "source": [
    "forecast_dfa = forecast_dfa.dropna(subset=['y', 'AutoARIMA'])"
   ]
  },
  {
   "cell_type": "markdown",
   "id": "2b2d73a4",
   "metadata": {},
   "source": [
    "Criando a função wmape para validarmos nosso modelo."
   ]
  },
  {
   "cell_type": "code",
   "execution_count": 1468,
   "id": "7c58c5cb",
   "metadata": {},
   "outputs": [],
   "source": [
    "def wmape(y_true, y_pred):\n",
    "    return np.sum(np.abs(y_true - y_pred)) / np.sum(np.abs(y_true))"
   ]
  },
  {
   "cell_type": "code",
   "execution_count": 1469,
   "id": "50afc6e5",
   "metadata": {},
   "outputs": [
    {
     "name": "stdout",
     "output_type": "stream",
     "text": [
      "WMAPE: 1.25%\n"
     ]
    }
   ],
   "source": [
    "if np.sum(forecast_dfa['y'].values) == 0:\n",
    "    print(\"A soma dos valores reais é zero, o que causa divisão por zero no cálculo do WMAPE.\")\n",
    "else:\n",
    "    wmape4 = wmape(forecast_dfa['y'].values, forecast_dfa['AutoARIMA'].values)\n",
    "    print(f\"WMAPE: {wmape4:.2%}\")"
   ]
  },
  {
   "cell_type": "markdown",
   "id": "8fea54aa",
   "metadata": {},
   "source": [
    "O modelo AutoARIMA com a base não estacionária mostra que conseguiu aprender melhor a estrutura da série e prever com mais precisão. A vantagem dele é que ele é adaptável evita tentativa e erro na escolha dos hiperparâmetros, ela testa várias combinações dos parâmetros do ARIMA (p, d, q) e seleciona a melhor."
   ]
  },
  {
   "cell_type": "markdown",
   "id": "63d6e524",
   "metadata": {},
   "source": [
    "# Modelo AutoARIMA com a base estacionária"
   ]
  },
  {
   "cell_type": "markdown",
   "id": "736b95ce",
   "metadata": {},
   "source": [
    "Aqui estamos deixando nossa base de dados estacionária, para podermos realizar o teste."
   ]
  },
  {
   "cell_type": "code",
   "execution_count": 1470,
   "id": "154d2208",
   "metadata": {},
   "outputs": [
    {
     "name": "stdout",
     "output_type": "stream",
     "text": [
      "ADF Statistic após diferenciação: -22.098938416073988\n",
      "p-value após diferenciação: 0.0\n"
     ]
    }
   ],
   "source": [
    "df_auto_arima['y'] = df_auto_arima['y'].diff()\n",
    "df_auto_arima.dropna(inplace=True)\n",
    "\n",
    "result_auto_arima = adfuller(df_auto_arima['y'])\n",
    "print(f\"ADF Statistic após diferenciação: {result_auto_arima[0]}\")\n",
    "print(f\"p-value após diferenciação: {result_auto_arima[1]}\")"
   ]
  },
  {
   "cell_type": "code",
   "execution_count": 1471,
   "id": "8368b515",
   "metadata": {},
   "outputs": [
    {
     "data": {
      "text/html": [
       "<div>\n",
       "<style scoped>\n",
       "    .dataframe tbody tr th:only-of-type {\n",
       "        vertical-align: middle;\n",
       "    }\n",
       "\n",
       "    .dataframe tbody tr th {\n",
       "        vertical-align: top;\n",
       "    }\n",
       "\n",
       "    .dataframe thead th {\n",
       "        text-align: right;\n",
       "    }\n",
       "</style>\n",
       "<table border=\"1\" class=\"dataframe\">\n",
       "  <thead>\n",
       "    <tr style=\"text-align: right;\">\n",
       "      <th></th>\n",
       "      <th>ds</th>\n",
       "      <th>y</th>\n",
       "      <th>unique_id</th>\n",
       "    </tr>\n",
       "  </thead>\n",
       "  <tbody>\n",
       "    <tr>\n",
       "      <th>20</th>\n",
       "      <td>2023-07-28</td>\n",
       "      <td>0.197</td>\n",
       "      <td>ibovespa</td>\n",
       "    </tr>\n",
       "    <tr>\n",
       "      <th>21</th>\n",
       "      <td>2023-07-31</td>\n",
       "      <td>1.756</td>\n",
       "      <td>ibovespa</td>\n",
       "    </tr>\n",
       "    <tr>\n",
       "      <th>22</th>\n",
       "      <td>2023-08-01</td>\n",
       "      <td>-0.695</td>\n",
       "      <td>ibovespa</td>\n",
       "    </tr>\n",
       "    <tr>\n",
       "      <th>23</th>\n",
       "      <td>2023-08-02</td>\n",
       "      <td>-0.389</td>\n",
       "      <td>ibovespa</td>\n",
       "    </tr>\n",
       "    <tr>\n",
       "      <th>24</th>\n",
       "      <td>2023-08-03</td>\n",
       "      <td>-0.273</td>\n",
       "      <td>ibovespa</td>\n",
       "    </tr>\n",
       "  </tbody>\n",
       "</table>\n",
       "</div>"
      ],
      "text/plain": [
       "           ds      y unique_id\n",
       "20 2023-07-28  0.197  ibovespa\n",
       "21 2023-07-31  1.756  ibovespa\n",
       "22 2023-08-01 -0.695  ibovespa\n",
       "23 2023-08-02 -0.389  ibovespa\n",
       "24 2023-08-03 -0.273  ibovespa"
      ]
     },
     "execution_count": 1471,
     "metadata": {},
     "output_type": "execute_result"
    }
   ],
   "source": [
    "df_auto_arima.head()"
   ]
  },
  {
   "cell_type": "code",
   "execution_count": 1472,
   "id": "84f027da",
   "metadata": {},
   "outputs": [],
   "source": [
    "model_auto_arima_estacionario = StatsForecast(models=[AutoARIMA(season_length=7)], freq='D', n_jobs=1)"
   ]
  },
  {
   "cell_type": "code",
   "execution_count": 1473,
   "id": "ed252bce",
   "metadata": {},
   "outputs": [
    {
     "data": {
      "text/plain": [
       "30"
      ]
     },
     "execution_count": 1473,
     "metadata": {},
     "output_type": "execute_result"
    }
   ],
   "source": [
    "train = df_auto_arima.loc[df_auto_arima['ds'] < '2025-05-19']\n",
    "valid = df_auto_arima[(df_auto_arima['ds'] >= '2025-05-09') & (df_auto_arima['ds'] <= '2025-06-20')]\n",
    "\n",
    "h = valid['ds'].nunique()\n",
    "h"
   ]
  },
  {
   "cell_type": "code",
   "execution_count": 1474,
   "id": "e377ba11",
   "metadata": {},
   "outputs": [
    {
     "data": {
      "text/plain": [
       "StatsForecast(models=[AutoARIMA])"
      ]
     },
     "execution_count": 1474,
     "metadata": {},
     "output_type": "execute_result"
    }
   ],
   "source": [
    "model_auto_arima_estacionario.fit(train)"
   ]
  },
  {
   "cell_type": "code",
   "execution_count": 1475,
   "id": "6ed662bf",
   "metadata": {},
   "outputs": [],
   "source": [
    "forecast_dfa_estacionario = model_auto_arima_estacionario.predict(h=h, level=[80])\n",
    "forecast_dfa_estacionario = forecast_dfa_estacionario.reset_index().merge(valid, on=['ds', 'unique_id'], how='left')\n"
   ]
  },
  {
   "cell_type": "code",
   "execution_count": 1476,
   "id": "b901f9e4",
   "metadata": {},
   "outputs": [],
   "source": [
    "forecast_dfa_estacionario = forecast_dfa_estacionario.dropna(subset=['y', 'AutoARIMA'])"
   ]
  },
  {
   "cell_type": "code",
   "execution_count": 1477,
   "id": "b13794ac",
   "metadata": {},
   "outputs": [
    {
     "name": "stdout",
     "output_type": "stream",
     "text": [
      "WMAPE: 100.00%\n"
     ]
    }
   ],
   "source": [
    "if np.sum(forecast_dfa_estacionario['y'].values) == 0:\n",
    "    print(\"A soma dos valores reais é zero, o que causa divisão por zero no cálculo do WMAPE.\")\n",
    "else:\n",
    "    wmape4 = wmape(forecast_dfa_estacionario['y'].values, forecast_dfa_estacionario['AutoARIMA'].values)\n",
    "    print(f\"WMAPE: {wmape4:.2%}\")"
   ]
  },
  {
   "cell_type": "markdown",
   "id": "c40cfcac",
   "metadata": {},
   "source": [
    "Optamos por não aplicar manualmente a diferenciação (diff) na série temporal antes do ajuste do modelo, baseada nas funcionalidades do método auto_arima, amplamente utilizado para a modelagem de séries temporais.De acordo com a documentação oficial da biblioteca pmdarima, a função auto_arima() realiza automaticamente a detecção e aplicação do número ótimo de diferenciações necessárias para tornar a série estacionária."
   ]
  },
  {
   "cell_type": "code",
   "execution_count": 1478,
   "id": "49371db5",
   "metadata": {},
   "outputs": [
    {
     "name": "stdout",
     "output_type": "stream",
     "text": [
      "                               SARIMAX Results                                \n",
      "==============================================================================\n",
      "Dep. Variable:                 Último   No. Observations:                  478\n",
      "Model:                 ARIMA(1, 1, 1)   Log Likelihood                -736.952\n",
      "Date:                Wed, 30 Jul 2025   AIC                           1479.905\n",
      "Time:                        21:02:03   BIC                           1492.407\n",
      "Sample:                             0   HQIC                          1484.821\n",
      "                                - 478                                         \n",
      "Covariance Type:                  opg                                         \n",
      "==============================================================================\n",
      "                 coef    std err          z      P>|z|      [0.025      0.975]\n",
      "------------------------------------------------------------------------------\n",
      "ar.L1          0.3399      1.578      0.215      0.829      -2.752       3.432\n",
      "ma.L1         -0.3630      1.562     -0.232      0.816      -3.425       2.699\n",
      "sigma2         1.2867      0.071     18.059      0.000       1.147       1.426\n",
      "===================================================================================\n",
      "Ljung-Box (L1) (Q):                   0.01   Jarque-Bera (JB):                12.49\n",
      "Prob(Q):                              0.91   Prob(JB):                         0.00\n",
      "Heteroskedasticity (H):               1.53   Skew:                             0.13\n",
      "Prob(H) (two-sided):                  0.01   Kurtosis:                         3.75\n",
      "===================================================================================\n",
      "\n",
      "Warnings:\n",
      "[1] Covariance matrix calculated using the outer product of gradients (complex-step).\n"
     ]
    },
    {
     "name": "stderr",
     "output_type": "stream",
     "text": [
      "c:\\Users\\icors\\AppData\\Local\\Programs\\Python\\Python311\\Lib\\site-packages\\statsmodels\\tsa\\base\\tsa_model.py:473: ValueWarning: A date index has been provided, but it has no associated frequency information and so will be ignored when e.g. forecasting.\n",
      "  self._init_dates(dates, freq)\n",
      "c:\\Users\\icors\\AppData\\Local\\Programs\\Python\\Python311\\Lib\\site-packages\\statsmodels\\tsa\\base\\tsa_model.py:473: ValueWarning: A date index has been provided, but it has no associated frequency information and so will be ignored when e.g. forecasting.\n",
      "  self._init_dates(dates, freq)\n",
      "c:\\Users\\icors\\AppData\\Local\\Programs\\Python\\Python311\\Lib\\site-packages\\statsmodels\\tsa\\base\\tsa_model.py:473: ValueWarning: A date index has been provided, but it has no associated frequency information and so will be ignored when e.g. forecasting.\n",
      "  self._init_dates(dates, freq)\n"
     ]
    }
   ],
   "source": [
    "from statsmodels.tsa.arima.model import ARIMA\n",
    "\n",
    "# Treinar o modelo ARIMA na série diferenciada\n",
    "modelo_arima = ARIMA(df_series['Último'], order=(1, 1, 1))  # p=1, d=1, q=1\n",
    "modelo_treinado = modelo_arima.fit()\n",
    "\n",
    "# Visualizar o sumário do modelo\n",
    "print(modelo_treinado.summary())"
   ]
  },
  {
   "cell_type": "code",
   "execution_count": 1479,
   "id": "6341fb29",
   "metadata": {},
   "outputs": [
    {
     "name": "stdout",
     "output_type": "stream",
     "text": [
      "Variação prevista: -0.07 pontos\n",
      "Média histórica de variações positivas: 0.72\n"
     ]
    },
    {
     "name": "stderr",
     "output_type": "stream",
     "text": [
      "c:\\Users\\icors\\AppData\\Local\\Programs\\Python\\Python311\\Lib\\site-packages\\statsmodels\\tsa\\base\\tsa_model.py:837: ValueWarning: No supported index is available. Prediction results will be given with an integer index beginning at `start`.\n",
      "  return get_prediction_index(\n",
      "c:\\Users\\icors\\AppData\\Local\\Programs\\Python\\Python311\\Lib\\site-packages\\statsmodels\\tsa\\base\\tsa_model.py:837: FutureWarning: No supported index is available. In the next version, calling this method in a model without a supported index will result in an exception.\n",
      "  return get_prediction_index(\n"
     ]
    }
   ],
   "source": [
    "# Previsão com o modelo ARIMA treinado\n",
    "forecast_arima = modelo_treinado.forecast(steps=30)  # Prever os próximos 30 dias\n",
    "\n",
    "# Pegar o último valor real da série\n",
    "ultimo_real = df_series['Último'].iloc[-1]\n",
    "\n",
    "# Pegar o último valor previsto (30º dia da previsão)\n",
    "ultimo_previsto = forecast_arima.iloc[-1]\n",
    "\n",
    "# Calcular a variação prevista\n",
    "variacao_prevista = ultimo_previsto - ultimo_real\n",
    "print(f'Variação prevista: {variacao_prevista:.2f} pontos')\n",
    "\n",
    "# Calcular a média histórica das variações positivas (se ainda não fez)\n",
    "media_alta_real = df['Var%'][df['Var%'] > 0].mean()\n",
    "print(f\"Média histórica de variações positivas: {media_alta_real:.2f}\")\n"
   ]
  },
  {
   "cell_type": "code",
   "execution_count": 1480,
   "id": "918111b7",
   "metadata": {},
   "outputs": [
    {
     "data": {
      "image/png": "[encoded data removed]",
      "text/plain": [
       "<Figure size 1400x600 with 1 Axes>"
      ]
     },
     "metadata": {},
     "output_type": "display_data"
    }
   ],
   "source": [
    "import matplotlib.pyplot as plt\n",
    "\n",
    "# Definir datas para treino e teste\n",
    "n_test = 30  # por exemplo: últimos 30 dias para teste\n",
    "n_total = len(df_series)\n",
    "train = df_series.iloc[:n_total - n_test]\n",
    "test = df_series.iloc[n_total - n_test:]\n",
    "\n",
    "# Plotar\n",
    "plt.figure(figsize=(14, 6))\n",
    "plt.plot(train.index, train['Último'], label='Treino', color='green')\n",
    "plt.plot(test.index, test['Último'], label='Teste', color='orange')\n",
    "plt.axvline(test.index[0], color='black', linestyle='--', label='Início do Teste')\n",
    "plt.title('Divisão de Treino e Teste na Série Temporal')\n",
    "plt.xlabel('Data')\n",
    "plt.ylabel('IBOVESPA (Pontos)')\n",
    "plt.legend()\n",
    "plt.grid(True)\n",
    "plt.show()"
   ]
  },
  {
   "cell_type": "code",
   "execution_count": 1481,
   "id": "70e9bdb8",
   "metadata": {},
   "outputs": [
    {
     "name": "stdout",
     "output_type": "stream",
     "text": [
      "Média histórica de variações positivas: 0.72\n"
     ]
    }
   ],
   "source": [
    "# Calcular a média das variações positivas reais\n",
    "media_alta_real = df['Var%'][df['Var%'] > 0].mean()\n",
    "print(f\"Média histórica de variações positivas: {media_alta_real:.2f}\")"
   ]
  },
  {
   "cell_type": "code",
   "execution_count": 1482,
   "id": "d65c649e",
   "metadata": {},
   "outputs": [
    {
     "name": "stdout",
     "output_type": "stream",
     "text": [
      "Variação prevista: -0.07 pontos\n"
     ]
    }
   ],
   "source": [
    "#Calcular variação prevista para o 30º dia\n",
    "ultimo_real = df_series['Último'].iloc[-1]\n",
    "ultimo_previsto = forecast_arima.iloc[-1]\n",
    "\n",
    "variacao_prevista = ultimo_previsto - ultimo_real\n",
    "print(f'Variação prevista: {variacao_prevista:.2f} pontos')"
   ]
  },
  {
   "cell_type": "code",
   "execution_count": 1483,
   "id": "d728a0d2",
   "metadata": {},
   "outputs": [
    {
     "name": "stdout",
     "output_type": "stream",
     "text": [
      "Target binário previsto pelo ARIMA: 0\n"
     ]
    }
   ],
   "source": [
    "# Criar target binário com base na variação prevista\n",
    "target_arima_binario = 1 if variacao_prevista >= media_alta_real else 0\n",
    "print(f\"Target binário previsto pelo ARIMA: {target_arima_binario}\")"
   ]
  },
  {
   "cell_type": "markdown",
   "id": "c32f7b4e",
   "metadata": {},
   "source": [
    "## Comparar acertos e erros dos dois modelos"
   ]
  },
  {
   "cell_type": "code",
   "execution_count": 1484,
   "id": "cf7c1e51",
   "metadata": {},
   "outputs": [
    {
     "name": "stderr",
     "output_type": "stream",
     "text": [
      "c:\\Users\\icors\\AppData\\Local\\Programs\\Python\\Python311\\Lib\\site-packages\\statsmodels\\tsa\\base\\tsa_model.py:837: ValueWarning: No supported index is available. Prediction results will be given with an integer index beginning at `start`.\n",
      "  return get_prediction_index(\n"
     ]
    }
   ],
   "source": [
    "forecast_arima_30 = modelo_treinado.forecast(steps=30)"
   ]
  },
  {
   "cell_type": "code",
   "execution_count": 1485,
   "id": "84a21139",
   "metadata": {},
   "outputs": [],
   "source": [
    "# Calcular a variação prevista nos últimos 30 dias (ARIMA)\n",
    "ultimos_reais = df_series['Último'].iloc[-31:-1].values\n",
    "variacoes_previstas = forecast_arima_30.values - ultimos_reais\n",
    "\n",
    "# Converter para binário com base na média histórica de altas reais\n",
    "media_alta_real = df['Var%'][df['Var%'] > 0].mean()\n",
    "arima_bin_30 = (variacoes_previstas >= media_alta_real).astype(int)\n",
    "\n",
    "# Targets reais e previstos\n",
    "target_real_30 = df_scaled['Target'].iloc[-30:].values\n",
    "target_lr_bin_30 = y_pred_lr[-30:]"
   ]
  },
  {
   "cell_type": "code",
   "execution_count": 1486,
   "id": "bd1a604c",
   "metadata": {},
   "outputs": [
    {
     "data": {
      "text/html": [
       "<div>\n",
       "<style scoped>\n",
       "    .dataframe tbody tr th:only-of-type {\n",
       "        vertical-align: middle;\n",
       "    }\n",
       "\n",
       "    .dataframe tbody tr th {\n",
       "        vertical-align: top;\n",
       "    }\n",
       "\n",
       "    .dataframe thead th {\n",
       "        text-align: right;\n",
       "    }\n",
       "</style>\n",
       "<table border=\"1\" class=\"dataframe\">\n",
       "  <thead>\n",
       "    <tr style=\"text-align: right;\">\n",
       "      <th></th>\n",
       "      <th>Data</th>\n",
       "      <th>Target Real</th>\n",
       "      <th>Previsão Regressão</th>\n",
       "      <th>Previsão ARIMA</th>\n",
       "      <th>Previsão RF</th>\n",
       "      <th>Acerto Regressão</th>\n",
       "      <th>Acerto ARIMA</th>\n",
       "      <th>Acerto RF</th>\n",
       "    </tr>\n",
       "  </thead>\n",
       "  <tbody>\n",
       "    <tr>\n",
       "      <th>0</th>\n",
       "      <td>2025-05-19</td>\n",
       "      <td>1</td>\n",
       "      <td>1</td>\n",
       "      <td>0</td>\n",
       "      <td>1</td>\n",
       "      <td>✔️</td>\n",
       "      <td>❌</td>\n",
       "      <td>✔️</td>\n",
       "    </tr>\n",
       "    <tr>\n",
       "      <th>1</th>\n",
       "      <td>2025-05-20</td>\n",
       "      <td>1</td>\n",
       "      <td>1</td>\n",
       "      <td>0</td>\n",
       "      <td>1</td>\n",
       "      <td>✔️</td>\n",
       "      <td>❌</td>\n",
       "      <td>✔️</td>\n",
       "    </tr>\n",
       "    <tr>\n",
       "      <th>2</th>\n",
       "      <td>2025-05-21</td>\n",
       "      <td>1</td>\n",
       "      <td>1</td>\n",
       "      <td>0</td>\n",
       "      <td>1</td>\n",
       "      <td>✔️</td>\n",
       "      <td>❌</td>\n",
       "      <td>✔️</td>\n",
       "    </tr>\n",
       "    <tr>\n",
       "      <th>3</th>\n",
       "      <td>2025-05-22</td>\n",
       "      <td>1</td>\n",
       "      <td>1</td>\n",
       "      <td>1</td>\n",
       "      <td>1</td>\n",
       "      <td>✔️</td>\n",
       "      <td>✔️</td>\n",
       "      <td>✔️</td>\n",
       "    </tr>\n",
       "    <tr>\n",
       "      <th>4</th>\n",
       "      <td>2025-05-23</td>\n",
       "      <td>1</td>\n",
       "      <td>1</td>\n",
       "      <td>1</td>\n",
       "      <td>1</td>\n",
       "      <td>✔️</td>\n",
       "      <td>✔️</td>\n",
       "      <td>✔️</td>\n",
       "    </tr>\n",
       "    <tr>\n",
       "      <th>5</th>\n",
       "      <td>2025-05-26</td>\n",
       "      <td>1</td>\n",
       "      <td>1</td>\n",
       "      <td>1</td>\n",
       "      <td>1</td>\n",
       "      <td>✔️</td>\n",
       "      <td>✔️</td>\n",
       "      <td>✔️</td>\n",
       "    </tr>\n",
       "    <tr>\n",
       "      <th>6</th>\n",
       "      <td>2025-05-27</td>\n",
       "      <td>1</td>\n",
       "      <td>1</td>\n",
       "      <td>0</td>\n",
       "      <td>1</td>\n",
       "      <td>✔️</td>\n",
       "      <td>❌</td>\n",
       "      <td>✔️</td>\n",
       "    </tr>\n",
       "    <tr>\n",
       "      <th>7</th>\n",
       "      <td>2025-05-28</td>\n",
       "      <td>1</td>\n",
       "      <td>1</td>\n",
       "      <td>0</td>\n",
       "      <td>1</td>\n",
       "      <td>✔️</td>\n",
       "      <td>❌</td>\n",
       "      <td>✔️</td>\n",
       "    </tr>\n",
       "    <tr>\n",
       "      <th>8</th>\n",
       "      <td>2025-05-29</td>\n",
       "      <td>1</td>\n",
       "      <td>1</td>\n",
       "      <td>0</td>\n",
       "      <td>1</td>\n",
       "      <td>✔️</td>\n",
       "      <td>❌</td>\n",
       "      <td>✔️</td>\n",
       "    </tr>\n",
       "    <tr>\n",
       "      <th>9</th>\n",
       "      <td>2025-05-30</td>\n",
       "      <td>1</td>\n",
       "      <td>1</td>\n",
       "      <td>0</td>\n",
       "      <td>1</td>\n",
       "      <td>✔️</td>\n",
       "      <td>❌</td>\n",
       "      <td>✔️</td>\n",
       "    </tr>\n",
       "    <tr>\n",
       "      <th>10</th>\n",
       "      <td>2025-06-02</td>\n",
       "      <td>1</td>\n",
       "      <td>0</td>\n",
       "      <td>1</td>\n",
       "      <td>1</td>\n",
       "      <td>❌</td>\n",
       "      <td>✔️</td>\n",
       "      <td>✔️</td>\n",
       "    </tr>\n",
       "    <tr>\n",
       "      <th>11</th>\n",
       "      <td>2025-06-03</td>\n",
       "      <td>0</td>\n",
       "      <td>0</td>\n",
       "      <td>1</td>\n",
       "      <td>1</td>\n",
       "      <td>✔️</td>\n",
       "      <td>❌</td>\n",
       "      <td>❌</td>\n",
       "    </tr>\n",
       "    <tr>\n",
       "      <th>12</th>\n",
       "      <td>2025-06-04</td>\n",
       "      <td>0</td>\n",
       "      <td>0</td>\n",
       "      <td>1</td>\n",
       "      <td>1</td>\n",
       "      <td>✔️</td>\n",
       "      <td>❌</td>\n",
       "      <td>❌</td>\n",
       "    </tr>\n",
       "    <tr>\n",
       "      <th>13</th>\n",
       "      <td>2025-06-05</td>\n",
       "      <td>0</td>\n",
       "      <td>0</td>\n",
       "      <td>1</td>\n",
       "      <td>1</td>\n",
       "      <td>✔️</td>\n",
       "      <td>❌</td>\n",
       "      <td>❌</td>\n",
       "    </tr>\n",
       "    <tr>\n",
       "      <th>14</th>\n",
       "      <td>2025-06-06</td>\n",
       "      <td>0</td>\n",
       "      <td>0</td>\n",
       "      <td>1</td>\n",
       "      <td>1</td>\n",
       "      <td>✔️</td>\n",
       "      <td>❌</td>\n",
       "      <td>❌</td>\n",
       "    </tr>\n",
       "    <tr>\n",
       "      <th>15</th>\n",
       "      <td>2025-06-09</td>\n",
       "      <td>0</td>\n",
       "      <td>0</td>\n",
       "      <td>1</td>\n",
       "      <td>1</td>\n",
       "      <td>✔️</td>\n",
       "      <td>❌</td>\n",
       "      <td>❌</td>\n",
       "    </tr>\n",
       "    <tr>\n",
       "      <th>16</th>\n",
       "      <td>2025-06-10</td>\n",
       "      <td>0</td>\n",
       "      <td>0</td>\n",
       "      <td>1</td>\n",
       "      <td>1</td>\n",
       "      <td>✔️</td>\n",
       "      <td>❌</td>\n",
       "      <td>❌</td>\n",
       "    </tr>\n",
       "    <tr>\n",
       "      <th>17</th>\n",
       "      <td>2025-06-11</td>\n",
       "      <td>0</td>\n",
       "      <td>0</td>\n",
       "      <td>1</td>\n",
       "      <td>1</td>\n",
       "      <td>✔️</td>\n",
       "      <td>❌</td>\n",
       "      <td>❌</td>\n",
       "    </tr>\n",
       "    <tr>\n",
       "      <th>18</th>\n",
       "      <td>2025-06-12</td>\n",
       "      <td>0</td>\n",
       "      <td>0</td>\n",
       "      <td>1</td>\n",
       "      <td>1</td>\n",
       "      <td>✔️</td>\n",
       "      <td>❌</td>\n",
       "      <td>❌</td>\n",
       "    </tr>\n",
       "    <tr>\n",
       "      <th>19</th>\n",
       "      <td>2025-06-13</td>\n",
       "      <td>0</td>\n",
       "      <td>0</td>\n",
       "      <td>1</td>\n",
       "      <td>1</td>\n",
       "      <td>✔️</td>\n",
       "      <td>❌</td>\n",
       "      <td>❌</td>\n",
       "    </tr>\n",
       "    <tr>\n",
       "      <th>20</th>\n",
       "      <td>2025-06-16</td>\n",
       "      <td>0</td>\n",
       "      <td>0</td>\n",
       "      <td>1</td>\n",
       "      <td>1</td>\n",
       "      <td>✔️</td>\n",
       "      <td>❌</td>\n",
       "      <td>❌</td>\n",
       "    </tr>\n",
       "    <tr>\n",
       "      <th>21</th>\n",
       "      <td>2025-06-17</td>\n",
       "      <td>1</td>\n",
       "      <td>1</td>\n",
       "      <td>0</td>\n",
       "      <td>1</td>\n",
       "      <td>✔️</td>\n",
       "      <td>❌</td>\n",
       "      <td>✔️</td>\n",
       "    </tr>\n",
       "    <tr>\n",
       "      <th>22</th>\n",
       "      <td>2025-06-18</td>\n",
       "      <td>1</td>\n",
       "      <td>1</td>\n",
       "      <td>0</td>\n",
       "      <td>1</td>\n",
       "      <td>✔️</td>\n",
       "      <td>❌</td>\n",
       "      <td>✔️</td>\n",
       "    </tr>\n",
       "    <tr>\n",
       "      <th>23</th>\n",
       "      <td>2025-06-20</td>\n",
       "      <td>1</td>\n",
       "      <td>0</td>\n",
       "      <td>0</td>\n",
       "      <td>1</td>\n",
       "      <td>❌</td>\n",
       "      <td>❌</td>\n",
       "      <td>✔️</td>\n",
       "    </tr>\n",
       "    <tr>\n",
       "      <th>24</th>\n",
       "      <td>2025-06-23</td>\n",
       "      <td>1</td>\n",
       "      <td>0</td>\n",
       "      <td>1</td>\n",
       "      <td>1</td>\n",
       "      <td>❌</td>\n",
       "      <td>✔️</td>\n",
       "      <td>✔️</td>\n",
       "    </tr>\n",
       "    <tr>\n",
       "      <th>25</th>\n",
       "      <td>2025-06-24</td>\n",
       "      <td>1</td>\n",
       "      <td>0</td>\n",
       "      <td>1</td>\n",
       "      <td>1</td>\n",
       "      <td>❌</td>\n",
       "      <td>✔️</td>\n",
       "      <td>✔️</td>\n",
       "    </tr>\n",
       "    <tr>\n",
       "      <th>26</th>\n",
       "      <td>2025-06-25</td>\n",
       "      <td>0</td>\n",
       "      <td>0</td>\n",
       "      <td>1</td>\n",
       "      <td>1</td>\n",
       "      <td>✔️</td>\n",
       "      <td>❌</td>\n",
       "      <td>❌</td>\n",
       "    </tr>\n",
       "    <tr>\n",
       "      <th>27</th>\n",
       "      <td>2025-06-26</td>\n",
       "      <td>0</td>\n",
       "      <td>0</td>\n",
       "      <td>1</td>\n",
       "      <td>1</td>\n",
       "      <td>✔️</td>\n",
       "      <td>❌</td>\n",
       "      <td>❌</td>\n",
       "    </tr>\n",
       "    <tr>\n",
       "      <th>28</th>\n",
       "      <td>2025-06-27</td>\n",
       "      <td>0</td>\n",
       "      <td>0</td>\n",
       "      <td>1</td>\n",
       "      <td>1</td>\n",
       "      <td>✔️</td>\n",
       "      <td>❌</td>\n",
       "      <td>❌</td>\n",
       "    </tr>\n",
       "    <tr>\n",
       "      <th>29</th>\n",
       "      <td>2025-06-30</td>\n",
       "      <td>0</td>\n",
       "      <td>0</td>\n",
       "      <td>1</td>\n",
       "      <td>1</td>\n",
       "      <td>✔️</td>\n",
       "      <td>❌</td>\n",
       "      <td>❌</td>\n",
       "    </tr>\n",
       "  </tbody>\n",
       "</table>\n",
       "</div>"
      ],
      "text/plain": [
       "         Data  Target Real  Previsão Regressão  Previsão ARIMA  Previsão RF  \\\n",
       "0  2025-05-19            1                   1               0            1   \n",
       "1  2025-05-20            1                   1               0            1   \n",
       "2  2025-05-21            1                   1               0            1   \n",
       "3  2025-05-22            1                   1               1            1   \n",
       "4  2025-05-23            1                   1               1            1   \n",
       "5  2025-05-26            1                   1               1            1   \n",
       "6  2025-05-27            1                   1               0            1   \n",
       "7  2025-05-28            1                   1               0            1   \n",
       "8  2025-05-29            1                   1               0            1   \n",
       "9  2025-05-30            1                   1               0            1   \n",
       "10 2025-06-02            1                   0               1            1   \n",
       "11 2025-06-03            0                   0               1            1   \n",
       "12 2025-06-04            0                   0               1            1   \n",
       "13 2025-06-05            0                   0               1            1   \n",
       "14 2025-06-06            0                   0               1            1   \n",
       "15 2025-06-09            0                   0               1            1   \n",
       "16 2025-06-10            0                   0               1            1   \n",
       "17 2025-06-11            0                   0               1            1   \n",
       "18 2025-06-12            0                   0               1            1   \n",
       "19 2025-06-13            0                   0               1            1   \n",
       "20 2025-06-16            0                   0               1            1   \n",
       "21 2025-06-17            1                   1               0            1   \n",
       "22 2025-06-18            1                   1               0            1   \n",
       "23 2025-06-20            1                   0               0            1   \n",
       "24 2025-06-23            1                   0               1            1   \n",
       "25 2025-06-24            1                   0               1            1   \n",
       "26 2025-06-25            0                   0               1            1   \n",
       "27 2025-06-26            0                   0               1            1   \n",
       "28 2025-06-27            0                   0               1            1   \n",
       "29 2025-06-30            0                   0               1            1   \n",
       "\n",
       "   Acerto Regressão Acerto ARIMA Acerto RF  \n",
       "0                ✔️            ❌        ✔️  \n",
       "1                ✔️            ❌        ✔️  \n",
       "2                ✔️            ❌        ✔️  \n",
       "3                ✔️           ✔️        ✔️  \n",
       "4                ✔️           ✔️        ✔️  \n",
       "5                ✔️           ✔️        ✔️  \n",
       "6                ✔️            ❌        ✔️  \n",
       "7                ✔️            ❌        ✔️  \n",
       "8                ✔️            ❌        ✔️  \n",
       "9                ✔️            ❌        ✔️  \n",
       "10                ❌           ✔️        ✔️  \n",
       "11               ✔️            ❌         ❌  \n",
       "12               ✔️            ❌         ❌  \n",
       "13               ✔️            ❌         ❌  \n",
       "14               ✔️            ❌         ❌  \n",
       "15               ✔️            ❌         ❌  \n",
       "16               ✔️            ❌         ❌  \n",
       "17               ✔️            ❌         ❌  \n",
       "18               ✔️            ❌         ❌  \n",
       "19               ✔️            ❌         ❌  \n",
       "20               ✔️            ❌         ❌  \n",
       "21               ✔️            ❌        ✔️  \n",
       "22               ✔️            ❌        ✔️  \n",
       "23                ❌            ❌        ✔️  \n",
       "24                ❌           ✔️        ✔️  \n",
       "25                ❌           ✔️        ✔️  \n",
       "26               ✔️            ❌         ❌  \n",
       "27               ✔️            ❌         ❌  \n",
       "28               ✔️            ❌         ❌  \n",
       "29               ✔️            ❌         ❌  "
      ]
     },
     "metadata": {},
     "output_type": "display_data"
    },
    {
     "name": "stdout",
     "output_type": "stream",
     "text": [
      "\n",
      " Regressão Logística – Acertos: 26, Erros: 4\n",
      " ARIMA – Acertos: 6, Erros: 24\n",
      " Random Forest – Acertos: 16, Erros: 14\n"
     ]
    }
   ],
   "source": [
    "# Comparar modelos\n",
    "df_comparacao = pd.DataFrame({\n",
    "    'Data': df['Data'].iloc[-30:].values,\n",
    "    'Target Real': target_real_30,\n",
    "    'Previsão Regressão': target_lr_bin_30,\n",
    "    'Previsão ARIMA': arima_bin_30,\n",
    "    'Previsão RF': target_rf_bin_30\n",
    "})\n",
    "\n",
    "# Coluna de acerto\n",
    "df_comparacao['Acerto Regressão'] = df_comparacao['Target Real'] == df_comparacao['Previsão Regressão']\n",
    "df_comparacao['Acerto ARIMA'] = df_comparacao['Target Real'] == df_comparacao['Previsão ARIMA']\n",
    "df_comparacao['Acerto RF'] = df_comparacao['Target Real'] == df_comparacao['Previsão RF']\n",
    "\n",
    "# Usar emojis se quiser\n",
    "df_comparacao['Acerto Regressão'] = df_comparacao['Acerto Regressão'].apply(lambda x: '✔️' if x else '❌')\n",
    "df_comparacao['Acerto ARIMA'] = df_comparacao['Acerto ARIMA'].apply(lambda x: '✔️' if x else '❌')\n",
    "df_comparacao['Acerto RF'] = df_comparacao['Acerto RF'].apply(lambda x: '✔️' if x else '❌')\n",
    "\n",
    "# Exibir tabela\n",
    "display(df_comparacao)\n",
    "\n",
    "# Contar acertos e erros\n",
    "acertos_regressao = df_comparacao['Acerto Regressão'].value_counts().get('✔️', 0)\n",
    "erros_regressao = df_comparacao['Acerto Regressão'].value_counts().get('❌', 0)\n",
    "\n",
    "acertos_arima = df_comparacao['Acerto ARIMA'].value_counts().get('✔️', 0)\n",
    "erros_arima = df_comparacao['Acerto ARIMA'].value_counts().get('❌', 0)\n",
    "\n",
    "acertos_rf = df_comparacao['Acerto RF'].value_counts().get('✔️', 0)\n",
    "erros_rf = df_comparacao['Acerto RF'].value_counts().get('❌', 0)\n",
    "\n",
    "# Imprimir resultado\n",
    "print(f\"\\n Regressão Logística – Acertos: {acertos_regressao}, Erros: {erros_regressao}\")\n",
    "print(f\" ARIMA – Acertos: {acertos_arima}, Erros: {erros_arima}\")\n",
    "print(f\" Random Forest – Acertos: {acertos_rf}, Erros: {erros_rf}\")"
   ]
  },
  {
   "cell_type": "code",
   "execution_count": 1487,
   "id": "034fe799",
   "metadata": {},
   "outputs": [
    {
     "data": {
      "image/png": "[encoded data removed]",
      "text/plain": [
       "<Figure size 1400x600 with 1 Axes>"
      ]
     },
     "metadata": {},
     "output_type": "display_data"
    }
   ],
   "source": [
    "import matplotlib.pyplot as plt\n",
    "\n",
    "plt.figure(figsize=(14, 6))\n",
    "\n",
    "# Plot da previsão da regressão logística\n",
    "plt.plot(df_comparacao['Data'], df_comparacao['Previsão Regressão'], marker='o', linestyle='-', label='Regressão Logística', color='green')\n",
    "\n",
    "# Plot da previsão do ARIMA\n",
    "plt.plot(df_comparacao['Data'], df_comparacao['Previsão ARIMA'], marker='x', linestyle='--', label='ARIMA', color='blue')\n",
    "\n",
    "# Plot da previsão do Random Forest\n",
    "plt.plot(df_comparacao['Data'], df_comparacao['Previsão RF'], marker='s', linestyle=':', label='Random Forest', color='orange')\n",
    "\n",
    "# Linha de referência separando alta (1) e queda (0)\n",
    "plt.axhline(y=0.5, color='gray', linestyle='--', alpha=0.5)\n",
    "\n",
    "# Ajustes do gráfico\n",
    "plt.title('Previsão de Alta (1) ou Queda (0) - Últimos 30 dias')\n",
    "plt.xlabel('Data')\n",
    "plt.ylabel('Previsão')\n",
    "plt.yticks([0, 1], ['Queda', 'Alta'])\n",
    "plt.xticks(rotation=45)\n",
    "plt.grid(True)\n",
    "plt.legend()\n",
    "plt.tight_layout()\n",
    "plt.show()"
   ]
  },
  {
   "cell_type": "code",
   "execution_count": 1488,
   "id": "52f92a76",
   "metadata": {},
   "outputs": [
    {
     "name": "stdout",
     "output_type": "stream",
     "text": [
      "🔍 Avaliação do ARIMA (binário):\n",
      "Acurácia: 0.2\n",
      "\n",
      "Matriz de Confusão:\n",
      "[[ 0 14]\n",
      " [10  6]]\n",
      "\n",
      "Relatório de Classificação:\n",
      "              precision    recall  f1-score   support\n",
      "\n",
      "           0       0.00      0.00      0.00        14\n",
      "           1       0.30      0.38      0.33        16\n",
      "\n",
      "    accuracy                           0.20        30\n",
      "   macro avg       0.15      0.19      0.17        30\n",
      "weighted avg       0.16      0.20      0.18        30\n",
      "\n"
     ]
    }
   ],
   "source": [
    "from sklearn.metrics import accuracy_score, confusion_matrix, classification_report\n",
    "\n",
    "# Cálculo da acurácia e métricas do ARIMA\n",
    "print(\"🔍 Avaliação do ARIMA (binário):\")\n",
    "print(\"Acurácia:\", accuracy_score(target_real_30, arima_bin_30))\n",
    "print(\"\\nMatriz de Confusão:\")\n",
    "print(confusion_matrix(target_real_30, arima_bin_30))\n",
    "print(\"\\nRelatório de Classificação:\")\n",
    "print(classification_report(target_real_30, arima_bin_30))"
   ]
  },
  {
   "cell_type": "markdown",
   "id": "a8377c02",
   "metadata": {},
   "source": [
    "# Justificativa técnica"
   ]
  },
  {
   "cell_type": "markdown",
   "id": "0c7f72ef",
   "metadata": {},
   "source": [
    "## Por que escolhi esses modelos (Regressão Logística, Random Forest e ARIMA):\n",
    "Por que escolhi esses modelos (Regressão Logística, Random Forest e ARIMA):\n",
    "\n",
    "No projeto, utilizei três abordagens complementares para reforçar o aprendizado e comparar o desempenho preditivo de modelos distintos:\n",
    "- Regressão Logística: Escolhi esse modelo por ser simples, eficiente e adequado para problemas de classificação binária, como prever se o IBOVESPA terá alta ou queda. Ele serviu como um bom baseline e apresentou excelente desempenho, acertando 26 dos 30 dias (27 acertos de 30).\n",
    "- Random Forest: Adicionei esse modelo como alternativa mais robusta baseada em ensemble, que utiliza diversas árvores de decisão para reduzir o risco de overfitting e capturar padrões não lineares nos dados. Ele obteve performance intermediária: 16 acertos nos 30 dias, o que mostra que apesar de menos preciso que a regressão logística nesse cenário, ainda conseguiu identificar parte relevante do comportamento do índice. Sua vantagem é a capacidade de lidar com interações complexas entre as variáveis.\n",
    "- ARIMA (Séries Temporais): Usei o ARIMA como abordagem complementar, voltada para previsão de valores contínuos respeitando a estrutura sequencial da série. Posteriormente, adaptei as previsões contínuas para uma classificação binária (alta ou queda), possibilitando a comparação direta com a Regressão Logística. Apesar da transformação, o modelo apresentou 20% de acurácia, o que indicou dificuldade em captar movimentos abruptos do índice no curto prazo."
   ]
  },
  {
   "cell_type": "markdown",
   "id": "51b3ce56",
   "metadata": {},
   "source": [
    "## Como tratei a natureza sequencial dos dados:\n",
    "Para a Regressão Logística (machine learning):\n",
    "\n",
    "Para a Regressão Logística e Random Forest (machine learning):\n",
    "- Respeitei a estrutura temporal ao criar features que capturam padrões históricos:\n",
    "- Médias móveis (SMA 5, 10 e 20): utilizadas para refletir tendências de curto e médio prazo.\n",
    "- Lag do dia anterior: para preservar o arranjo dos eventos e fornecer ao modelo o fechamento anterior como referência.\n",
    "- Separação temporal: dividi os dados em treino e teste com janela deslizante, garantindo que o modelo fosse avaliado em dados futuros nunca vistos.\n",
    "\n",
    "Para o ARIMA:\n",
    "- Modelei diretamente a série temporal, com indexação adequada por datetime.\n",
    "- A previsão foi feita com base apenas nos dados anteriores, sem adição de features artificiais.\n",
    "- A série foi diferenciada para tornar o modelo estacionário, conforme exigência do ARIMA."
   ]
  },
  {
   "cell_type": "markdown",
   "id": "e4dd9e22",
   "metadata": {},
   "source": [
    "## Trade-offs entre acurácia e comportamento do modelo:\n",
    "- A Regressão Logística apresentou desempenho superior, especialmente para o cenário de classificação binária, com alta capacidade preditiva recente (90%), mesmo em um contexto de classes potencialmente desbalanceadas.\n",
    "- O Random Forest obteve resultados intermediários (53% de acurácia), com recall perfeito (1.0), indicando que ele acertou todas as altas, mas errou muitas quedas. Isso sugere que o modelo tem uma tendência a prever alta, o que pode ser útil em certos cenários estratégicos de investimento, mas exige cuidado na interpretação.\n",
    "- O ARIMA, apesar de ser mais conservador e teórico, teve desempenho limitado quando convertido para esse formato. Isso demonstra que sua força está em capturar padrões contínuos ou suavizados, sendo mais adequado para tendências de longo prazo.\n",
    "- A comparação evidenciou como modelos estatísticos e de machine learning podem se complementar, e reforçou a importância de métricas adequadas e interpretações cuidadosas ao tomar decisões baseadas em previsões."
   ]
  }
 ],
 "metadata": {
  "kernelspec": {
   "display_name": "Python 3",
   "language": "python",
   "name": "python3"
  },
  "language_info": {
   "codemirror_mode": {
    "name": "ipython",
    "version": 3
   },
   "file_extension": ".py",
   "mimetype": "text/x-python",
   "name": "python",
   "nbconvert_exporter": "python",
   "pygments_lexer": "ipython3",
   "version": "3.11.2"
  }
 },
 "nbformat": 4,
 "nbformat_minor": 5
}
